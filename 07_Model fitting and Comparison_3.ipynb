{
 "cells": [
  {
   "cell_type": "markdown",
   "metadata": {},
   "source": [
    "# Import Packages"
   ]
  },
  {
   "cell_type": "code",
   "execution_count": 1,
   "metadata": {},
   "outputs": [],
   "source": [
    "import warnings\n",
    "warnings.filterwarnings('ignore')\n",
    "\n",
    "import numpy as np\n",
    "import pandas as pd\n",
    "import matplotlib.pyplot as plt\n",
    "plt.figure(figsize=(8, 6))\n",
    "%matplotlib inline\n",
    "import seaborn as sns\n",
    "\n",
    "import datetime as dt\n",
    "\n",
    "import missingno as msno # viz missing values\n",
    "\n",
    "sns.set_style(\"darkgrid\")\n",
    "import itertools"
   ]
  },
  {
   "cell_type": "code",
   "execution_count": 148,
   "metadata": {},
   "outputs": [],
   "source": [
    "from sklearn.model_selection import train_test_split\n",
    "from sklearn.metrics import accuracy_score, confusion_matrix\n",
    "from sklearn.metrics import accuracy_score\n",
    "\n",
    "from sklearn import metrics\n",
    "from sklearn.metrics import classification_report\n",
    "from sklearn.metrics import cohen_kappa_score\n",
    "from sklearn.metrics import matthews_corrcoef\n",
    "\n",
    "from sklearn.model_selection import RepeatedStratifiedKFold\n",
    "from sklearn.model_selection import KFold\n",
    "from sklearn.model_selection import cross_val_score\n",
    "from sklearn.model_selection import GridSearchCV\n",
    "\n",
    "from sklearn.tree import DecisionTreeClassifier\n",
    "from xgboost import XGBClassifier"
   ]
  },
  {
   "cell_type": "markdown",
   "metadata": {},
   "source": [
    "# Utility Functions and Pipelines"
   ]
  },
  {
   "cell_type": "code",
   "execution_count": 3,
   "metadata": {},
   "outputs": [],
   "source": [
    "def plot_confusion_matrix(cm, classes,\n",
    "                          normalize=False,\n",
    "                          title='Confusion matrix',\n",
    "                          cmap=plt.cm.Blues):\n",
    "    if normalize:\n",
    "        cm = cm.astype('float') / cm.sum(axis=1)[:, np.newaxis]\n",
    "        \n",
    "    #print(cm)\n",
    "\n",
    "    plt.imshow(cm, interpolation='nearest', cmap=cmap)\n",
    "    plt.title(title)\n",
    "    plt.colorbar()\n",
    "    tick_marks = np.arange(len(classes))\n",
    "    plt.xticks(tick_marks, classes)\n",
    "    plt.yticks(tick_marks, classes)\n",
    "    plt.grid(False)\n",
    "\n",
    "    fmt = '.2f' if normalize else 'd'\n",
    "    thresh = cm.max() / 2.\n",
    "    for i, j in itertools.product(range(cm.shape[0]), range(cm.shape[1])):\n",
    "        plt.text(j, i, format(cm[i, j], fmt),\n",
    "                 horizontalalignment=\"center\",\n",
    "                 color=\"white\" if cm[i, j] > thresh else \"black\")\n",
    "\n",
    "    plt.tight_layout()\n",
    "    plt.ylabel('True label')\n",
    "    plt.xlabel('Predicted label')"
   ]
  },
  {
   "cell_type": "code",
   "execution_count": 4,
   "metadata": {},
   "outputs": [],
   "source": [
    "def report(true_y, pred_y, class_names):\n",
    "    \n",
    "    # Matthews Correlation Coefficient\n",
    "    Matthews_Coefficient = round(metrics.matthews_corrcoef(true_y, pred_y),2)\n",
    "    print(f'Matthews Coefficient: {Matthews_Coefficient}') # values over 0.7 are considered good scores"
   ]
  },
  {
   "cell_type": "code",
   "execution_count": null,
   "metadata": {},
   "outputs": [],
   "source": [
    "class_names = ['high', 'low', 'medium']"
   ]
  },
  {
   "cell_type": "code",
   "execution_count": 149,
   "metadata": {},
   "outputs": [],
   "source": [
    "def fitModel(table, class_name, title): \n",
    "    '''This function returns necassary evaluation for a DT model\n",
    "    parameters: table, class_name, title'''\n",
    "    \n",
    "    # print out title\n",
    "    print(f'{title}')\n",
    "    print('--------------------------------------')\n",
    "    \n",
    "    #read table\n",
    "    df = table.drop(columns = ['customer_id'], axis=1)\n",
    "    \n",
    "    # seperate into datasets\n",
    "    X = df.drop(columns=['cluster']).copy()\n",
    "    y = df['cluster']\n",
    "    \n",
    "    X_train, X_rem, y_train, y_rem = train_test_split(X, y, train_size=0.8)\n",
    "    X_valid, X_test, y_valid, y_test = train_test_split(X_rem,y_rem, test_size=0.5)\n",
    "    \n",
    "    # check datasets shape\n",
    "    print(f'the shape of X_train is {X_train.shape}, the shape of y_train is  {y_train.shape}')\n",
    "    print(f'the shape of X_valid is {X_valid.shape}, the shape of y_valid is  {y_valid.shape}')\n",
    "    print(f'the shape of X_test is {X_test.shape}, the shape of y_test is  {y_test.shape}')\n",
    "    print('\\n')\n",
    "    \n",
    "    # fit a model\n",
    "    dtclf = DecisionTreeClassifier()\n",
    "    dtclf.fit(X_train, y_train)\n",
    "    y_predict = dtclf.predict(X_test)\n",
    "    \n",
    "    print(classification_report(y_test, y_predict))\n",
    "    \n",
    "    #class_names = ['high', 'low', 'medium']\n",
    "    \n",
    "    plot_confusion_matrix(confusion_matrix(y_test,y_predict),\n",
    "                      class_names, \n",
    "                      normalize=False,\n",
    "                      title='Normalized Confusion Matrix: Decision Tree')\n",
    "\n",
    "    report(y_test, y_predict, class_names)\n",
    "    \n",
    "    print('\\n')\n",
    "    print('10-fold cross validation')\n",
    "    \n",
    "    # prepare the cross-validation procedure\n",
    "    cv = KFold(n_splits=10, random_state=1, shuffle=True)\n",
    "\n",
    "    # evaluate model\n",
    "    scores = cross_val_score(dtclf, X, y, scoring='accuracy', cv=cv, n_jobs=-1)\n",
    "    # report performance\n",
    "    print(\"%0.2f accuracy with a standard deviation of %0.2f\" % (scores.mean(), scores.std()))  "
   ]
  },
  {
   "cell_type": "code",
   "execution_count": 150,
   "metadata": {},
   "outputs": [],
   "source": [
    "##########################################\n",
    "table = PastCust_trans_labeled_3\n",
    "class_names = ['high', 'low', 'medium']\n",
    "title = 'transaction data (2017 yr)'\n",
    "\n",
    "fitModel(table, class_names, title)\n",
    "##########################################"
   ]
  },
  {
   "cell_type": "markdown",
   "metadata": {},
   "source": [
    "# Read datasets"
   ]
  },
  {
   "cell_type": "code",
   "execution_count": 58,
   "metadata": {},
   "outputs": [],
   "source": [
    "PastCust_trans_labeled_3 = pd.read_excel('PastCust_trans_labeled_3.xlsx')"
   ]
  },
  {
   "cell_type": "code",
   "execution_count": 11,
   "metadata": {},
   "outputs": [],
   "source": [
    "PastCust_trans_cut_f3t_labeled_3 = pd.read_excel('PastCust_trans_cut_f3t_labeled_3.xlsx')"
   ]
  },
  {
   "cell_type": "code",
   "execution_count": 12,
   "metadata": {},
   "outputs": [],
   "source": [
    "PastCust_trans_cut_f3m_labeled_3 = pd.read_excel('PastCust_trans_cut_f3m_labeled_3.xlsx')"
   ]
  },
  {
   "cell_type": "code",
   "execution_count": 59,
   "metadata": {},
   "outputs": [],
   "source": [
    "PastCust_demo_cat_labeled_3 = pd.read_excel('PastCust_demo_cat_labeled_3.xlsx')"
   ]
  },
  {
   "cell_type": "code",
   "execution_count": 61,
   "metadata": {},
   "outputs": [],
   "source": [
    "PastCust_demo_labeled_3 = pd.read_excel('PastCust_demo_labeled_3.xlsx')"
   ]
  },
  {
   "cell_type": "markdown",
   "metadata": {},
   "source": [
    "# Transaction data"
   ]
  },
  {
   "cell_type": "code",
   "execution_count": 14,
   "metadata": {},
   "outputs": [
    {
     "data": {
      "text/html": [
       "<div>\n",
       "<style scoped>\n",
       "    .dataframe tbody tr th:only-of-type {\n",
       "        vertical-align: middle;\n",
       "    }\n",
       "\n",
       "    .dataframe tbody tr th {\n",
       "        vertical-align: top;\n",
       "    }\n",
       "\n",
       "    .dataframe thead th {\n",
       "        text-align: right;\n",
       "    }\n",
       "</style>\n",
       "<table border=\"1\" class=\"dataframe\">\n",
       "  <thead>\n",
       "    <tr style=\"text-align: right;\">\n",
       "      <th></th>\n",
       "      <th>customer_id</th>\n",
       "      <th>product_age_new</th>\n",
       "      <th>product_age_old</th>\n",
       "      <th>Giant Bicycles</th>\n",
       "      <th>Norco Bicycles</th>\n",
       "      <th>OHM Cycles</th>\n",
       "      <th>Solex</th>\n",
       "      <th>Trek Bicycles</th>\n",
       "      <th>WeareA2B</th>\n",
       "      <th>Mountain</th>\n",
       "      <th>...</th>\n",
       "      <th>Standard</th>\n",
       "      <th>Touring</th>\n",
       "      <th>product_class_high</th>\n",
       "      <th>product_class_low</th>\n",
       "      <th>product_class_medium</th>\n",
       "      <th>product_size_large</th>\n",
       "      <th>product_size_medium</th>\n",
       "      <th>product_size_small</th>\n",
       "      <th>multi_trans</th>\n",
       "      <th>cluster</th>\n",
       "    </tr>\n",
       "  </thead>\n",
       "  <tbody>\n",
       "    <tr>\n",
       "      <th>0</th>\n",
       "      <td>1</td>\n",
       "      <td>2</td>\n",
       "      <td>9</td>\n",
       "      <td>4</td>\n",
       "      <td>2</td>\n",
       "      <td>2</td>\n",
       "      <td>2</td>\n",
       "      <td>1</td>\n",
       "      <td>0</td>\n",
       "      <td>1</td>\n",
       "      <td>...</td>\n",
       "      <td>7</td>\n",
       "      <td>0</td>\n",
       "      <td>1</td>\n",
       "      <td>2</td>\n",
       "      <td>8</td>\n",
       "      <td>0</td>\n",
       "      <td>9</td>\n",
       "      <td>2</td>\n",
       "      <td>0</td>\n",
       "      <td>high</td>\n",
       "    </tr>\n",
       "    <tr>\n",
       "      <th>1</th>\n",
       "      <td>2</td>\n",
       "      <td>1</td>\n",
       "      <td>2</td>\n",
       "      <td>1</td>\n",
       "      <td>0</td>\n",
       "      <td>0</td>\n",
       "      <td>0</td>\n",
       "      <td>0</td>\n",
       "      <td>2</td>\n",
       "      <td>0</td>\n",
       "      <td>...</td>\n",
       "      <td>3</td>\n",
       "      <td>0</td>\n",
       "      <td>0</td>\n",
       "      <td>0</td>\n",
       "      <td>3</td>\n",
       "      <td>0</td>\n",
       "      <td>3</td>\n",
       "      <td>0</td>\n",
       "      <td>0</td>\n",
       "      <td>low</td>\n",
       "    </tr>\n",
       "    <tr>\n",
       "      <th>2</th>\n",
       "      <td>3</td>\n",
       "      <td>4</td>\n",
       "      <td>3</td>\n",
       "      <td>2</td>\n",
       "      <td>2</td>\n",
       "      <td>0</td>\n",
       "      <td>0</td>\n",
       "      <td>3</td>\n",
       "      <td>0</td>\n",
       "      <td>1</td>\n",
       "      <td>...</td>\n",
       "      <td>3</td>\n",
       "      <td>0</td>\n",
       "      <td>1</td>\n",
       "      <td>2</td>\n",
       "      <td>4</td>\n",
       "      <td>3</td>\n",
       "      <td>2</td>\n",
       "      <td>2</td>\n",
       "      <td>0</td>\n",
       "      <td>high</td>\n",
       "    </tr>\n",
       "    <tr>\n",
       "      <th>3</th>\n",
       "      <td>4</td>\n",
       "      <td>0</td>\n",
       "      <td>2</td>\n",
       "      <td>1</td>\n",
       "      <td>0</td>\n",
       "      <td>0</td>\n",
       "      <td>1</td>\n",
       "      <td>0</td>\n",
       "      <td>0</td>\n",
       "      <td>0</td>\n",
       "      <td>...</td>\n",
       "      <td>2</td>\n",
       "      <td>0</td>\n",
       "      <td>0</td>\n",
       "      <td>0</td>\n",
       "      <td>2</td>\n",
       "      <td>1</td>\n",
       "      <td>1</td>\n",
       "      <td>0</td>\n",
       "      <td>0</td>\n",
       "      <td>low</td>\n",
       "    </tr>\n",
       "    <tr>\n",
       "      <th>4</th>\n",
       "      <td>5</td>\n",
       "      <td>3</td>\n",
       "      <td>3</td>\n",
       "      <td>1</td>\n",
       "      <td>2</td>\n",
       "      <td>0</td>\n",
       "      <td>1</td>\n",
       "      <td>1</td>\n",
       "      <td>1</td>\n",
       "      <td>1</td>\n",
       "      <td>...</td>\n",
       "      <td>2</td>\n",
       "      <td>0</td>\n",
       "      <td>1</td>\n",
       "      <td>2</td>\n",
       "      <td>3</td>\n",
       "      <td>2</td>\n",
       "      <td>2</td>\n",
       "      <td>2</td>\n",
       "      <td>0</td>\n",
       "      <td>medium</td>\n",
       "    </tr>\n",
       "  </tbody>\n",
       "</table>\n",
       "<p>5 rows × 21 columns</p>\n",
       "</div>"
      ],
      "text/plain": [
       "   customer_id  product_age_new  product_age_old  Giant Bicycles  \\\n",
       "0            1                2                9               4   \n",
       "1            2                1                2               1   \n",
       "2            3                4                3               2   \n",
       "3            4                0                2               1   \n",
       "4            5                3                3               1   \n",
       "\n",
       "   Norco Bicycles  OHM Cycles  Solex  Trek Bicycles  WeareA2B  Mountain  ...  \\\n",
       "0               2           2      2              1         0         1  ...   \n",
       "1               0           0      0              0         2         0  ...   \n",
       "2               2           0      0              3         0         1  ...   \n",
       "3               0           0      1              0         0         0  ...   \n",
       "4               2           0      1              1         1         1  ...   \n",
       "\n",
       "   Standard  Touring  product_class_high  product_class_low  \\\n",
       "0         7        0                   1                  2   \n",
       "1         3        0                   0                  0   \n",
       "2         3        0                   1                  2   \n",
       "3         2        0                   0                  0   \n",
       "4         2        0                   1                  2   \n",
       "\n",
       "   product_class_medium  product_size_large  product_size_medium  \\\n",
       "0                     8                   0                    9   \n",
       "1                     3                   0                    3   \n",
       "2                     4                   3                    2   \n",
       "3                     2                   1                    1   \n",
       "4                     3                   2                    2   \n",
       "\n",
       "   product_size_small  multi_trans  cluster  \n",
       "0                   2            0     high  \n",
       "1                   0            0      low  \n",
       "2                   2            0     high  \n",
       "3                   0            0      low  \n",
       "4                   2            0   medium  \n",
       "\n",
       "[5 rows x 21 columns]"
      ]
     },
     "execution_count": 14,
     "metadata": {},
     "output_type": "execute_result"
    }
   ],
   "source": [
    "PastCust_trans_labeled_3.head()"
   ]
  },
  {
   "cell_type": "markdown",
   "metadata": {},
   "source": [
    "## Split data into training, test, and validation sets"
   ]
  },
  {
   "cell_type": "code",
   "execution_count": 15,
   "metadata": {},
   "outputs": [],
   "source": [
    "df = PastCust_trans_labeled_3.drop(columns = ['customer_id'], axis=1)"
   ]
  },
  {
   "cell_type": "code",
   "execution_count": 16,
   "metadata": {},
   "outputs": [],
   "source": [
    "X = df.drop(columns=['cluster']).copy()\n",
    "y = df['cluster']"
   ]
  },
  {
   "cell_type": "code",
   "execution_count": 17,
   "metadata": {},
   "outputs": [],
   "source": [
    "X_train, X_rem, y_train, y_rem = train_test_split(X, y, train_size=0.8)"
   ]
  },
  {
   "cell_type": "code",
   "execution_count": 18,
   "metadata": {},
   "outputs": [],
   "source": [
    "X_valid, X_test, y_valid, y_test = train_test_split(X_rem,y_rem, test_size=0.5)"
   ]
  },
  {
   "cell_type": "code",
   "execution_count": 19,
   "metadata": {},
   "outputs": [
    {
     "name": "stdout",
     "output_type": "stream",
     "text": [
      "the shape of X_train is (2792, 19), the shape of y_train is  (2792,)\n",
      "the shape of X_valid is (349, 19), the shape of y_valid is  (349,)\n",
      "the shape of X_test is (349, 19), the shape of y_test is  (349,)\n"
     ]
    }
   ],
   "source": [
    "# check datasets shape\n",
    "print(f'the shape of X_train is {X_train.shape}, the shape of y_train is  {y_train.shape}')\n",
    "print(f'the shape of X_valid is {X_valid.shape}, the shape of y_valid is  {y_valid.shape}')\n",
    "print(f'the shape of X_test is {X_test.shape}, the shape of y_test is  {y_test.shape}')"
   ]
  },
  {
   "cell_type": "markdown",
   "metadata": {},
   "source": [
    "## Fit model"
   ]
  },
  {
   "cell_type": "code",
   "execution_count": 20,
   "metadata": {},
   "outputs": [],
   "source": [
    "dtclf = DecisionTreeClassifier()\n",
    "dtclf.fit(X_train, y_train)\n",
    "y_predict = dtclf.predict(X_test)"
   ]
  },
  {
   "cell_type": "code",
   "execution_count": 21,
   "metadata": {},
   "outputs": [
    {
     "name": "stdout",
     "output_type": "stream",
     "text": [
      "              precision    recall  f1-score   support\n",
      "\n",
      "        high       0.77      0.74      0.76       101\n",
      "         low       0.33      0.34      0.33        68\n",
      "      medium       0.65      0.66      0.66       180\n",
      "\n",
      "    accuracy                           0.62       349\n",
      "   macro avg       0.59      0.58      0.58       349\n",
      "weighted avg       0.63      0.62      0.62       349\n",
      "\n"
     ]
    }
   ],
   "source": [
    "print(classification_report(y_test, y_predict))"
   ]
  },
  {
   "cell_type": "code",
   "execution_count": 22,
   "metadata": {},
   "outputs": [
    {
     "name": "stdout",
     "output_type": "stream",
     "text": [
      "Classification report: DT\n",
      "-------------------------------\n",
      "Matthews Coefficient: 0.38\n"
     ]
    },
    {
     "data": {
      "image/png": "[encoded data removed]",
      "text/plain": [
       "<Figure size 432x288 with 2 Axes>"
      ]
     },
     "metadata": {
      "needs_background": "light"
     },
     "output_type": "display_data"
    }
   ],
   "source": [
    "class_names = ['high', 'low', 'medium']\n",
    "    \n",
    "plot_confusion_matrix(confusion_matrix(y_test,y_predict),\n",
    "                      class_names, \n",
    "                      normalize=False,\n",
    "                      title='Normalized Confusion Matrix: Decision Tree')\n",
    "\n",
    "print('Classification report: DT')\n",
    "print('-------------------------------')\n",
    "report(y_test, y_predict, class_names)"
   ]
  },
  {
   "cell_type": "code",
   "execution_count": 23,
   "metadata": {},
   "outputs": [
    {
     "name": "stdout",
     "output_type": "stream",
     "text": [
      "Feature: 0, Score: 0.03511\n",
      "Feature: 1, Score: 0.03843\n",
      "Feature: 2, Score: 0.03492\n",
      "Feature: 3, Score: 0.03641\n",
      "Feature: 4, Score: 0.03926\n",
      "Feature: 5, Score: 0.04440\n",
      "Feature: 6, Score: 0.03260\n",
      "Feature: 7, Score: 0.04007\n",
      "Feature: 8, Score: 0.01128\n",
      "Feature: 9, Score: 0.05615\n",
      "Feature: 10, Score: 0.26088\n",
      "Feature: 11, Score: 0.04302\n",
      "Feature: 12, Score: 0.04318\n",
      "Feature: 13, Score: 0.03453\n",
      "Feature: 14, Score: 0.11854\n",
      "Feature: 15, Score: 0.04958\n",
      "Feature: 16, Score: 0.05104\n",
      "Feature: 17, Score: 0.02841\n",
      "Feature: 18, Score: 0.00218\n"
     ]
    },
    {
     "data": {
      "image/png": "[encoded data removed]",
      "text/plain": [
       "<Figure size 432x288 with 1 Axes>"
      ]
     },
     "metadata": {
      "needs_background": "light"
     },
     "output_type": "display_data"
    }
   ],
   "source": [
    "# plotting feature importances\n",
    "importance = dtclf.feature_importances_\n",
    "# summarize feature importance\n",
    "for i,v in enumerate(importance):\n",
    "    print('Feature: %0d, Score: %.5f' % (i,v))\n",
    "# plot feature importance\n",
    "plt.bar([x for x in range(len(importance))], importance)\n",
    "\n",
    "plt.xlabel('Feature', fontsize =15)\n",
    "plt.ylabel('Score', fontsize =15)\n",
    "plt.title('Important features in Decision tree model', fontsize =18)\n",
    "plt.show()\n",
    "\n",
    "plt.show()"
   ]
  },
  {
   "cell_type": "code",
   "execution_count": 24,
   "metadata": {},
   "outputs": [
    {
     "data": {
      "text/plain": [
       "Index(['Road', 'Standard', 'product_class_medium'], dtype='object')"
      ]
     },
     "execution_count": 24,
     "metadata": {},
     "output_type": "execute_result"
    }
   ],
   "source": [
    "# Here are the top 5 important features\n",
    "# X.columns[[14,10,13,12,9]]\n",
    "X.columns[[9,10,14]]"
   ]
  },
  {
   "cell_type": "markdown",
   "metadata": {},
   "source": [
    "# Transaction data (first three transactions)"
   ]
  },
  {
   "cell_type": "markdown",
   "metadata": {},
   "source": [
    "## Split data into training, test, and validation sets"
   ]
  },
  {
   "cell_type": "code",
   "execution_count": 25,
   "metadata": {},
   "outputs": [],
   "source": [
    "df = PastCust_trans_cut_f3t_labeled_3.drop(columns = ['customer_id'], axis=1)"
   ]
  },
  {
   "cell_type": "code",
   "execution_count": 26,
   "metadata": {},
   "outputs": [],
   "source": [
    "X = df.drop(columns=['cluster']).copy()\n",
    "y = df['cluster']"
   ]
  },
  {
   "cell_type": "code",
   "execution_count": 27,
   "metadata": {},
   "outputs": [],
   "source": [
    "X_train, X_rem, y_train, y_rem = train_test_split(X, y, train_size=0.8)"
   ]
  },
  {
   "cell_type": "code",
   "execution_count": 28,
   "metadata": {},
   "outputs": [],
   "source": [
    "X_valid, X_test, y_valid, y_test = train_test_split(X_rem,y_rem, test_size=0.5)"
   ]
  },
  {
   "cell_type": "code",
   "execution_count": 29,
   "metadata": {},
   "outputs": [
    {
     "name": "stdout",
     "output_type": "stream",
     "text": [
      "the shape of X_train is (2792, 19), the shape of y_train is  (2792,)\n",
      "the shape of X_valid is (349, 19), the shape of y_valid is  (349,)\n",
      "the shape of X_test is (349, 19), the shape of y_test is  (349,)\n"
     ]
    }
   ],
   "source": [
    "# check datasets shape\n",
    "print(f'the shape of X_train is {X_train.shape}, the shape of y_train is  {y_train.shape}')\n",
    "print(f'the shape of X_valid is {X_valid.shape}, the shape of y_valid is  {y_valid.shape}')\n",
    "print(f'the shape of X_test is {X_test.shape}, the shape of y_test is  {y_test.shape}')"
   ]
  },
  {
   "cell_type": "markdown",
   "metadata": {},
   "source": [
    "## Fit model"
   ]
  },
  {
   "cell_type": "code",
   "execution_count": 30,
   "metadata": {},
   "outputs": [],
   "source": [
    "dtclf = DecisionTreeClassifier()\n",
    "dtclf.fit(X_train, y_train)\n",
    "y_predict = dtclf.predict(X_test)"
   ]
  },
  {
   "cell_type": "code",
   "execution_count": 31,
   "metadata": {},
   "outputs": [
    {
     "name": "stdout",
     "output_type": "stream",
     "text": [
      "              precision    recall  f1-score   support\n",
      "\n",
      "        high       0.35      0.40      0.37       116\n",
      "         low       0.18      0.21      0.19        53\n",
      "      medium       0.51      0.44      0.48       180\n",
      "\n",
      "    accuracy                           0.39       349\n",
      "   macro avg       0.35      0.35      0.35       349\n",
      "weighted avg       0.41      0.39      0.40       349\n",
      "\n"
     ]
    }
   ],
   "source": [
    "print(classification_report(y_test, y_predict))"
   ]
  },
  {
   "cell_type": "code",
   "execution_count": 32,
   "metadata": {},
   "outputs": [
    {
     "name": "stdout",
     "output_type": "stream",
     "text": [
      "Classification report: DT\n",
      "-------------------------------\n",
      "Matthews Coefficient: 0.02\n"
     ]
    },
    {
     "data": {
      "image/png": "[encoded data removed]",
      "text/plain": [
       "<Figure size 432x288 with 2 Axes>"
      ]
     },
     "metadata": {
      "needs_background": "light"
     },
     "output_type": "display_data"
    }
   ],
   "source": [
    "class_names = ['high', 'low', 'medium']\n",
    "    \n",
    "plot_confusion_matrix(confusion_matrix(y_test,y_predict),\n",
    "                      class_names, \n",
    "                      normalize=False,\n",
    "                      title='Normalized Confusion Matrix: Decision Tree')\n",
    "\n",
    "print('Classification report: DT')\n",
    "print('-------------------------------')\n",
    "report(y_test, y_predict, class_names)"
   ]
  },
  {
   "cell_type": "code",
   "execution_count": 33,
   "metadata": {},
   "outputs": [
    {
     "data": {
      "text/plain": [
       "array([[46, 21, 49],\n",
       "       [15, 11, 27],\n",
       "       [72, 28, 80]])"
      ]
     },
     "execution_count": 33,
     "metadata": {},
     "output_type": "execute_result"
    }
   ],
   "source": [
    "confusion_matrix(y_test,y_predict)"
   ]
  },
  {
   "cell_type": "markdown",
   "metadata": {},
   "source": [
    "# Transaction data (first three months)"
   ]
  },
  {
   "cell_type": "markdown",
   "metadata": {},
   "source": [
    "## Split data into training, test, and validation sets"
   ]
  },
  {
   "cell_type": "code",
   "execution_count": 34,
   "metadata": {},
   "outputs": [],
   "source": [
    "df = PastCust_trans_cut_f3m_labeled_3.drop(columns = ['customer_id'], axis=1)"
   ]
  },
  {
   "cell_type": "code",
   "execution_count": 35,
   "metadata": {},
   "outputs": [],
   "source": [
    "X = df.drop(columns=['cluster']).copy()\n",
    "y = df['cluster']"
   ]
  },
  {
   "cell_type": "code",
   "execution_count": 36,
   "metadata": {},
   "outputs": [],
   "source": [
    "X_train, X_rem, y_train, y_rem = train_test_split(X, y, train_size=0.8)"
   ]
  },
  {
   "cell_type": "code",
   "execution_count": 37,
   "metadata": {},
   "outputs": [],
   "source": [
    "X_valid, X_test, y_valid, y_test = train_test_split(X_rem,y_rem, test_size=0.5)"
   ]
  },
  {
   "cell_type": "code",
   "execution_count": 38,
   "metadata": {},
   "outputs": [
    {
     "name": "stdout",
     "output_type": "stream",
     "text": [
      "the shape of X_train is (2078, 19), the shape of y_train is  (2078,)\n",
      "the shape of X_valid is (260, 19), the shape of y_valid is  (260,)\n",
      "the shape of X_test is (260, 19), the shape of y_test is  (260,)\n"
     ]
    }
   ],
   "source": [
    "# check datasets shape\n",
    "print(f'the shape of X_train is {X_train.shape}, the shape of y_train is  {y_train.shape}')\n",
    "print(f'the shape of X_valid is {X_valid.shape}, the shape of y_valid is  {y_valid.shape}')\n",
    "print(f'the shape of X_test is {X_test.shape}, the shape of y_test is  {y_test.shape}')"
   ]
  },
  {
   "cell_type": "markdown",
   "metadata": {},
   "source": [
    "## Fit model"
   ]
  },
  {
   "cell_type": "code",
   "execution_count": 39,
   "metadata": {},
   "outputs": [],
   "source": [
    "dtclf = DecisionTreeClassifier()\n",
    "dtclf.fit(X_train, y_train)\n",
    "y_predict = dtclf.predict(X_test)"
   ]
  },
  {
   "cell_type": "code",
   "execution_count": 40,
   "metadata": {},
   "outputs": [
    {
     "name": "stdout",
     "output_type": "stream",
     "text": [
      "              precision    recall  f1-score   support\n",
      "\n",
      "        high       0.44      0.38      0.41       112\n",
      "         low       0.18      0.12      0.15        48\n",
      "      medium       0.41      0.53      0.46       100\n",
      "\n",
      "    accuracy                           0.39       260\n",
      "   macro avg       0.34      0.35      0.34       260\n",
      "weighted avg       0.38      0.39      0.38       260\n",
      "\n"
     ]
    }
   ],
   "source": [
    "print(classification_report(y_test, y_predict))"
   ]
  },
  {
   "cell_type": "code",
   "execution_count": 42,
   "metadata": {},
   "outputs": [
    {
     "name": "stdout",
     "output_type": "stream",
     "text": [
      "Classification report: DT\n",
      "-------------------------------\n",
      "Matthews Coefficient: 0.03\n"
     ]
    },
    {
     "data": {
      "image/png": "[encoded data removed]",
      "text/plain": [
       "<Figure size 432x288 with 2 Axes>"
      ]
     },
     "metadata": {
      "needs_background": "light"
     },
     "output_type": "display_data"
    }
   ],
   "source": [
    "class_names = ['high', 'low', 'medium']\n",
    "    \n",
    "plot_confusion_matrix(confusion_matrix(y_test,y_predict),\n",
    "                      class_names, \n",
    "                      normalize=False,\n",
    "                      title='Normalized Confusion Matrix: Decision Tree')\n",
    "\n",
    "print('Classification report: DT')\n",
    "print('-------------------------------')\n",
    "report(y_test, y_predict, class_names)"
   ]
  },
  {
   "cell_type": "code",
   "execution_count": 43,
   "metadata": {},
   "outputs": [
    {
     "data": {
      "text/plain": [
       "array([[43, 19, 50],\n",
       "       [15,  6, 27],\n",
       "       [39,  8, 53]])"
      ]
     },
     "execution_count": 43,
     "metadata": {},
     "output_type": "execute_result"
    }
   ],
   "source": [
    "confusion_matrix(y_test,y_predict)"
   ]
  },
  {
   "cell_type": "markdown",
   "metadata": {},
   "source": [
    "# Demographic data"
   ]
  },
  {
   "cell_type": "code",
   "execution_count": 46,
   "metadata": {},
   "outputs": [
    {
     "data": {
      "text/html": [
       "<div>\n",
       "<style scoped>\n",
       "    .dataframe tbody tr th:only-of-type {\n",
       "        vertical-align: middle;\n",
       "    }\n",
       "\n",
       "    .dataframe tbody tr th {\n",
       "        vertical-align: top;\n",
       "    }\n",
       "\n",
       "    .dataframe thead th {\n",
       "        text-align: right;\n",
       "    }\n",
       "</style>\n",
       "<table border=\"1\" class=\"dataframe\">\n",
       "  <thead>\n",
       "    <tr style=\"text-align: right;\">\n",
       "      <th></th>\n",
       "      <th>customer_id</th>\n",
       "      <th>gender</th>\n",
       "      <th>wealth_segment</th>\n",
       "      <th>owns_car</th>\n",
       "      <th>state</th>\n",
       "      <th>cluster</th>\n",
       "      <th>age_cat</th>\n",
       "      <th>purchase_cat</th>\n",
       "      <th>tenure_cat</th>\n",
       "      <th>property_cat</th>\n",
       "    </tr>\n",
       "  </thead>\n",
       "  <tbody>\n",
       "    <tr>\n",
       "      <th>0</th>\n",
       "      <td>1</td>\n",
       "      <td>Female</td>\n",
       "      <td>Mass Customer</td>\n",
       "      <td>Yes</td>\n",
       "      <td>NSW</td>\n",
       "      <td>high</td>\n",
       "      <td>senior</td>\n",
       "      <td>many</td>\n",
       "      <td>medium</td>\n",
       "      <td>medium</td>\n",
       "    </tr>\n",
       "    <tr>\n",
       "      <th>1</th>\n",
       "      <td>2</td>\n",
       "      <td>Male</td>\n",
       "      <td>Mass Customer</td>\n",
       "      <td>Yes</td>\n",
       "      <td>NSW</td>\n",
       "      <td>low</td>\n",
       "      <td>mid-age</td>\n",
       "      <td>many</td>\n",
       "      <td>long</td>\n",
       "      <td>medium</td>\n",
       "    </tr>\n",
       "    <tr>\n",
       "      <th>2</th>\n",
       "      <td>4</td>\n",
       "      <td>Male</td>\n",
       "      <td>Mass Customer</td>\n",
       "      <td>No</td>\n",
       "      <td>QLD</td>\n",
       "      <td>low</td>\n",
       "      <td>senior</td>\n",
       "      <td>medium</td>\n",
       "      <td>medium</td>\n",
       "      <td>medium</td>\n",
       "    </tr>\n",
       "    <tr>\n",
       "      <th>3</th>\n",
       "      <td>5</td>\n",
       "      <td>Female</td>\n",
       "      <td>Affluent Customer</td>\n",
       "      <td>Yes</td>\n",
       "      <td>NSW</td>\n",
       "      <td>medium</td>\n",
       "      <td>mid-age</td>\n",
       "      <td>medium</td>\n",
       "      <td>medium</td>\n",
       "      <td>low</td>\n",
       "    </tr>\n",
       "    <tr>\n",
       "      <th>4</th>\n",
       "      <td>6</td>\n",
       "      <td>Male</td>\n",
       "      <td>High Net Worth</td>\n",
       "      <td>Yes</td>\n",
       "      <td>VIC</td>\n",
       "      <td>medium</td>\n",
       "      <td>senior</td>\n",
       "      <td>medium</td>\n",
       "      <td>medium</td>\n",
       "      <td>medium</td>\n",
       "    </tr>\n",
       "  </tbody>\n",
       "</table>\n",
       "</div>"
      ],
      "text/plain": [
       "   customer_id  gender     wealth_segment owns_car state cluster  age_cat  \\\n",
       "0            1  Female      Mass Customer      Yes   NSW    high   senior   \n",
       "1            2    Male      Mass Customer      Yes   NSW     low  mid-age   \n",
       "2            4    Male      Mass Customer       No   QLD     low   senior   \n",
       "3            5  Female  Affluent Customer      Yes   NSW  medium  mid-age   \n",
       "4            6    Male     High Net Worth      Yes   VIC  medium   senior   \n",
       "\n",
       "  purchase_cat tenure_cat property_cat  \n",
       "0         many     medium       medium  \n",
       "1         many       long       medium  \n",
       "2       medium     medium       medium  \n",
       "3       medium     medium          low  \n",
       "4       medium     medium       medium  "
      ]
     },
     "execution_count": 46,
     "metadata": {},
     "output_type": "execute_result"
    }
   ],
   "source": [
    "PastCust_demo_cat_labeled_3.head()"
   ]
  },
  {
   "cell_type": "code",
   "execution_count": 62,
   "metadata": {},
   "outputs": [
    {
     "data": {
      "text/html": [
       "<div>\n",
       "<style scoped>\n",
       "    .dataframe tbody tr th:only-of-type {\n",
       "        vertical-align: middle;\n",
       "    }\n",
       "\n",
       "    .dataframe tbody tr th {\n",
       "        vertical-align: top;\n",
       "    }\n",
       "\n",
       "    .dataframe thead th {\n",
       "        text-align: right;\n",
       "    }\n",
       "</style>\n",
       "<table border=\"1\" class=\"dataframe\">\n",
       "  <thead>\n",
       "    <tr style=\"text-align: right;\">\n",
       "      <th></th>\n",
       "      <th>customer_id</th>\n",
       "      <th>gender</th>\n",
       "      <th>past_3_years_bike_related_purchases</th>\n",
       "      <th>wealth_segment</th>\n",
       "      <th>owns_car</th>\n",
       "      <th>tenure</th>\n",
       "      <th>age</th>\n",
       "      <th>state</th>\n",
       "      <th>property_valuation</th>\n",
       "      <th>cluster</th>\n",
       "    </tr>\n",
       "  </thead>\n",
       "  <tbody>\n",
       "    <tr>\n",
       "      <th>0</th>\n",
       "      <td>1</td>\n",
       "      <td>Female</td>\n",
       "      <td>93</td>\n",
       "      <td>Mass Customer</td>\n",
       "      <td>Yes</td>\n",
       "      <td>11</td>\n",
       "      <td>64</td>\n",
       "      <td>NSW</td>\n",
       "      <td>10</td>\n",
       "      <td>high</td>\n",
       "    </tr>\n",
       "    <tr>\n",
       "      <th>1</th>\n",
       "      <td>2</td>\n",
       "      <td>Male</td>\n",
       "      <td>81</td>\n",
       "      <td>Mass Customer</td>\n",
       "      <td>Yes</td>\n",
       "      <td>16</td>\n",
       "      <td>37</td>\n",
       "      <td>NSW</td>\n",
       "      <td>10</td>\n",
       "      <td>low</td>\n",
       "    </tr>\n",
       "    <tr>\n",
       "      <th>2</th>\n",
       "      <td>4</td>\n",
       "      <td>Male</td>\n",
       "      <td>33</td>\n",
       "      <td>Mass Customer</td>\n",
       "      <td>No</td>\n",
       "      <td>7</td>\n",
       "      <td>56</td>\n",
       "      <td>QLD</td>\n",
       "      <td>9</td>\n",
       "      <td>low</td>\n",
       "    </tr>\n",
       "    <tr>\n",
       "      <th>3</th>\n",
       "      <td>5</td>\n",
       "      <td>Female</td>\n",
       "      <td>56</td>\n",
       "      <td>Affluent Customer</td>\n",
       "      <td>Yes</td>\n",
       "      <td>8</td>\n",
       "      <td>40</td>\n",
       "      <td>NSW</td>\n",
       "      <td>4</td>\n",
       "      <td>medium</td>\n",
       "    </tr>\n",
       "    <tr>\n",
       "      <th>4</th>\n",
       "      <td>6</td>\n",
       "      <td>Male</td>\n",
       "      <td>35</td>\n",
       "      <td>High Net Worth</td>\n",
       "      <td>Yes</td>\n",
       "      <td>13</td>\n",
       "      <td>51</td>\n",
       "      <td>VIC</td>\n",
       "      <td>9</td>\n",
       "      <td>medium</td>\n",
       "    </tr>\n",
       "  </tbody>\n",
       "</table>\n",
       "</div>"
      ],
      "text/plain": [
       "   customer_id  gender  past_3_years_bike_related_purchases  \\\n",
       "0            1  Female                                   93   \n",
       "1            2    Male                                   81   \n",
       "2            4    Male                                   33   \n",
       "3            5  Female                                   56   \n",
       "4            6    Male                                   35   \n",
       "\n",
       "      wealth_segment owns_car  tenure  age state  property_valuation cluster  \n",
       "0      Mass Customer      Yes      11   64   NSW                  10    high  \n",
       "1      Mass Customer      Yes      16   37   NSW                  10     low  \n",
       "2      Mass Customer       No       7   56   QLD                   9     low  \n",
       "3  Affluent Customer      Yes       8   40   NSW                   4  medium  \n",
       "4     High Net Worth      Yes      13   51   VIC                   9  medium  "
      ]
     },
     "execution_count": 62,
     "metadata": {},
     "output_type": "execute_result"
    }
   ],
   "source": [
    "PastCust_demo_labeled_3.head()"
   ]
  },
  {
   "cell_type": "markdown",
   "metadata": {},
   "source": [
    "## Split data into training, test, and validation sets"
   ]
  },
  {
   "cell_type": "code",
   "execution_count": 63,
   "metadata": {},
   "outputs": [],
   "source": [
    "df = PastCust_demo_labeled_3.drop(columns = ['customer_id'], axis=1)"
   ]
  },
  {
   "cell_type": "code",
   "execution_count": 64,
   "metadata": {},
   "outputs": [],
   "source": [
    "X = df.drop(columns=['cluster']).copy()"
   ]
  },
  {
   "cell_type": "code",
   "execution_count": 65,
   "metadata": {},
   "outputs": [],
   "source": [
    "X = pd.get_dummies(X) "
   ]
  },
  {
   "cell_type": "code",
   "execution_count": 66,
   "metadata": {},
   "outputs": [],
   "source": [
    "y = df['cluster']"
   ]
  },
  {
   "cell_type": "code",
   "execution_count": 67,
   "metadata": {},
   "outputs": [],
   "source": [
    "X_train, X_rem, y_train, y_rem = train_test_split(X, y, train_size=0.8)"
   ]
  },
  {
   "cell_type": "code",
   "execution_count": 68,
   "metadata": {},
   "outputs": [],
   "source": [
    "X_valid, X_test, y_valid, y_test = train_test_split(X_rem,y_rem, test_size=0.5)"
   ]
  },
  {
   "cell_type": "code",
   "execution_count": 69,
   "metadata": {},
   "outputs": [
    {
     "name": "stdout",
     "output_type": "stream",
     "text": [
      "the shape of X_train is (2726, 14), the shape of y_train is  (2726,)\n",
      "the shape of X_valid is (341, 14), the shape of y_valid is  (341,)\n",
      "the shape of X_test is (341, 14), the shape of y_test is  (341,)\n"
     ]
    }
   ],
   "source": [
    "# check datasets shape\n",
    "print(f'the shape of X_train is {X_train.shape}, the shape of y_train is  {y_train.shape}')\n",
    "print(f'the shape of X_valid is {X_valid.shape}, the shape of y_valid is  {y_valid.shape}')\n",
    "print(f'the shape of X_test is {X_test.shape}, the shape of y_test is  {y_test.shape}')"
   ]
  },
  {
   "cell_type": "markdown",
   "metadata": {},
   "source": [
    "## Fit model"
   ]
  },
  {
   "cell_type": "code",
   "execution_count": 70,
   "metadata": {},
   "outputs": [],
   "source": [
    "dtclf = DecisionTreeClassifier()\n",
    "dtclf.fit(X_train, y_train)\n",
    "y_predict = dtclf.predict(X_test)"
   ]
  },
  {
   "cell_type": "code",
   "execution_count": 71,
   "metadata": {},
   "outputs": [
    {
     "name": "stdout",
     "output_type": "stream",
     "text": [
      "              precision    recall  f1-score   support\n",
      "\n",
      "        high       0.32      0.37      0.34       104\n",
      "         low       0.11      0.12      0.11        60\n",
      "      medium       0.52      0.48      0.50       177\n",
      "\n",
      "    accuracy                           0.38       341\n",
      "   macro avg       0.32      0.32      0.32       341\n",
      "weighted avg       0.39      0.38      0.39       341\n",
      "\n"
     ]
    }
   ],
   "source": [
    "print(classification_report(y_test, y_predict))"
   ]
  },
  {
   "cell_type": "code",
   "execution_count": 72,
   "metadata": {},
   "outputs": [
    {
     "name": "stdout",
     "output_type": "stream",
     "text": [
      "Classification report: DT\n",
      "-------------------------------\n",
      "Matthews Coefficient: -0.0\n"
     ]
    },
    {
     "data": {
      "image/png": "[encoded data removed]",
      "text/plain": [
       "<Figure size 432x288 with 2 Axes>"
      ]
     },
     "metadata": {
      "needs_background": "light"
     },
     "output_type": "display_data"
    }
   ],
   "source": [
    "class_names = ['high', 'low', 'medium']\n",
    "    \n",
    "plot_confusion_matrix(confusion_matrix(y_test,y_predict),\n",
    "                      class_names, \n",
    "                      normalize=False,\n",
    "                      title='Normalized Confusion Matrix: Decision Tree')\n",
    "\n",
    "print('Classification report: DT')\n",
    "print('-------------------------------')\n",
    "report(y_test, y_predict, class_names)"
   ]
  },
  {
   "cell_type": "markdown",
   "metadata": {},
   "source": [
    "# Demo + Trans data"
   ]
  },
  {
   "cell_type": "markdown",
   "metadata": {},
   "source": [
    "## Split data into training, test, and validation sets"
   ]
  },
  {
   "cell_type": "code",
   "execution_count": 73,
   "metadata": {},
   "outputs": [],
   "source": [
    "df = PastCust_trans_labeled_3.merge(PastCust_demo_labeled_3, \n",
    "                                   on = 'customer_id',\n",
    "                                   how = 'inner')"
   ]
  },
  {
   "cell_type": "code",
   "execution_count": 74,
   "metadata": {},
   "outputs": [
    {
     "data": {
      "text/plain": [
       "Index(['customer_id', 'product_age_new', 'product_age_old', 'Giant Bicycles',\n",
       "       'Norco Bicycles', 'OHM Cycles', 'Solex', 'Trek Bicycles', 'WeareA2B',\n",
       "       'Mountain', 'Road', 'Standard', 'Touring', 'product_class_high',\n",
       "       'product_class_low', 'product_class_medium', 'product_size_large',\n",
       "       'product_size_medium', 'product_size_small', 'multi_trans', 'cluster_x',\n",
       "       'gender', 'past_3_years_bike_related_purchases', 'wealth_segment',\n",
       "       'owns_car', 'tenure', 'age', 'state', 'property_valuation',\n",
       "       'cluster_y'],\n",
       "      dtype='object')"
      ]
     },
     "execution_count": 74,
     "metadata": {},
     "output_type": "execute_result"
    }
   ],
   "source": [
    "df.columns"
   ]
  },
  {
   "cell_type": "code",
   "execution_count": 75,
   "metadata": {},
   "outputs": [],
   "source": [
    "df.rename(columns = {'cluster_x':'cluster'}, inplace=True)\n",
    "df.drop('cluster_y', axis=1, inplace=True)"
   ]
  },
  {
   "cell_type": "code",
   "execution_count": 76,
   "metadata": {},
   "outputs": [
    {
     "data": {
      "text/plain": [
       "Index(['customer_id', 'product_age_new', 'product_age_old', 'Giant Bicycles',\n",
       "       'Norco Bicycles', 'OHM Cycles', 'Solex', 'Trek Bicycles', 'WeareA2B',\n",
       "       'Mountain', 'Road', 'Standard', 'Touring', 'product_class_high',\n",
       "       'product_class_low', 'product_class_medium', 'product_size_large',\n",
       "       'product_size_medium', 'product_size_small', 'multi_trans', 'cluster',\n",
       "       'gender', 'past_3_years_bike_related_purchases', 'wealth_segment',\n",
       "       'owns_car', 'tenure', 'age', 'state', 'property_valuation'],\n",
       "      dtype='object')"
      ]
     },
     "execution_count": 76,
     "metadata": {},
     "output_type": "execute_result"
    }
   ],
   "source": [
    "df.columns"
   ]
  },
  {
   "cell_type": "code",
   "execution_count": 77,
   "metadata": {},
   "outputs": [
    {
     "data": {
      "text/html": [
       "<div>\n",
       "<style scoped>\n",
       "    .dataframe tbody tr th:only-of-type {\n",
       "        vertical-align: middle;\n",
       "    }\n",
       "\n",
       "    .dataframe tbody tr th {\n",
       "        vertical-align: top;\n",
       "    }\n",
       "\n",
       "    .dataframe thead th {\n",
       "        text-align: right;\n",
       "    }\n",
       "</style>\n",
       "<table border=\"1\" class=\"dataframe\">\n",
       "  <thead>\n",
       "    <tr style=\"text-align: right;\">\n",
       "      <th></th>\n",
       "      <th>customer_id</th>\n",
       "      <th>product_age_new</th>\n",
       "      <th>product_age_old</th>\n",
       "      <th>Giant Bicycles</th>\n",
       "      <th>Norco Bicycles</th>\n",
       "      <th>OHM Cycles</th>\n",
       "      <th>Solex</th>\n",
       "      <th>Trek Bicycles</th>\n",
       "      <th>WeareA2B</th>\n",
       "      <th>Mountain</th>\n",
       "      <th>...</th>\n",
       "      <th>multi_trans</th>\n",
       "      <th>cluster</th>\n",
       "      <th>gender</th>\n",
       "      <th>past_3_years_bike_related_purchases</th>\n",
       "      <th>wealth_segment</th>\n",
       "      <th>owns_car</th>\n",
       "      <th>tenure</th>\n",
       "      <th>age</th>\n",
       "      <th>state</th>\n",
       "      <th>property_valuation</th>\n",
       "    </tr>\n",
       "  </thead>\n",
       "  <tbody>\n",
       "    <tr>\n",
       "      <th>0</th>\n",
       "      <td>1</td>\n",
       "      <td>2</td>\n",
       "      <td>9</td>\n",
       "      <td>4</td>\n",
       "      <td>2</td>\n",
       "      <td>2</td>\n",
       "      <td>2</td>\n",
       "      <td>1</td>\n",
       "      <td>0</td>\n",
       "      <td>1</td>\n",
       "      <td>...</td>\n",
       "      <td>0</td>\n",
       "      <td>high</td>\n",
       "      <td>Female</td>\n",
       "      <td>93</td>\n",
       "      <td>Mass Customer</td>\n",
       "      <td>Yes</td>\n",
       "      <td>11</td>\n",
       "      <td>64</td>\n",
       "      <td>NSW</td>\n",
       "      <td>10</td>\n",
       "    </tr>\n",
       "    <tr>\n",
       "      <th>1</th>\n",
       "      <td>2</td>\n",
       "      <td>1</td>\n",
       "      <td>2</td>\n",
       "      <td>1</td>\n",
       "      <td>0</td>\n",
       "      <td>0</td>\n",
       "      <td>0</td>\n",
       "      <td>0</td>\n",
       "      <td>2</td>\n",
       "      <td>0</td>\n",
       "      <td>...</td>\n",
       "      <td>0</td>\n",
       "      <td>low</td>\n",
       "      <td>Male</td>\n",
       "      <td>81</td>\n",
       "      <td>Mass Customer</td>\n",
       "      <td>Yes</td>\n",
       "      <td>16</td>\n",
       "      <td>37</td>\n",
       "      <td>NSW</td>\n",
       "      <td>10</td>\n",
       "    </tr>\n",
       "    <tr>\n",
       "      <th>2</th>\n",
       "      <td>4</td>\n",
       "      <td>0</td>\n",
       "      <td>2</td>\n",
       "      <td>1</td>\n",
       "      <td>0</td>\n",
       "      <td>0</td>\n",
       "      <td>1</td>\n",
       "      <td>0</td>\n",
       "      <td>0</td>\n",
       "      <td>0</td>\n",
       "      <td>...</td>\n",
       "      <td>0</td>\n",
       "      <td>low</td>\n",
       "      <td>Male</td>\n",
       "      <td>33</td>\n",
       "      <td>Mass Customer</td>\n",
       "      <td>No</td>\n",
       "      <td>7</td>\n",
       "      <td>56</td>\n",
       "      <td>QLD</td>\n",
       "      <td>9</td>\n",
       "    </tr>\n",
       "    <tr>\n",
       "      <th>3</th>\n",
       "      <td>5</td>\n",
       "      <td>3</td>\n",
       "      <td>3</td>\n",
       "      <td>1</td>\n",
       "      <td>2</td>\n",
       "      <td>0</td>\n",
       "      <td>1</td>\n",
       "      <td>1</td>\n",
       "      <td>1</td>\n",
       "      <td>1</td>\n",
       "      <td>...</td>\n",
       "      <td>0</td>\n",
       "      <td>medium</td>\n",
       "      <td>Female</td>\n",
       "      <td>56</td>\n",
       "      <td>Affluent Customer</td>\n",
       "      <td>Yes</td>\n",
       "      <td>8</td>\n",
       "      <td>40</td>\n",
       "      <td>NSW</td>\n",
       "      <td>4</td>\n",
       "    </tr>\n",
       "    <tr>\n",
       "      <th>4</th>\n",
       "      <td>6</td>\n",
       "      <td>3</td>\n",
       "      <td>2</td>\n",
       "      <td>2</td>\n",
       "      <td>0</td>\n",
       "      <td>0</td>\n",
       "      <td>0</td>\n",
       "      <td>1</td>\n",
       "      <td>2</td>\n",
       "      <td>0</td>\n",
       "      <td>...</td>\n",
       "      <td>0</td>\n",
       "      <td>medium</td>\n",
       "      <td>Male</td>\n",
       "      <td>35</td>\n",
       "      <td>High Net Worth</td>\n",
       "      <td>Yes</td>\n",
       "      <td>13</td>\n",
       "      <td>51</td>\n",
       "      <td>VIC</td>\n",
       "      <td>9</td>\n",
       "    </tr>\n",
       "  </tbody>\n",
       "</table>\n",
       "<p>5 rows × 29 columns</p>\n",
       "</div>"
      ],
      "text/plain": [
       "   customer_id  product_age_new  product_age_old  Giant Bicycles  \\\n",
       "0            1                2                9               4   \n",
       "1            2                1                2               1   \n",
       "2            4                0                2               1   \n",
       "3            5                3                3               1   \n",
       "4            6                3                2               2   \n",
       "\n",
       "   Norco Bicycles  OHM Cycles  Solex  Trek Bicycles  WeareA2B  Mountain  ...  \\\n",
       "0               2           2      2              1         0         1  ...   \n",
       "1               0           0      0              0         2         0  ...   \n",
       "2               0           0      1              0         0         0  ...   \n",
       "3               2           0      1              1         1         1  ...   \n",
       "4               0           0      0              1         2         0  ...   \n",
       "\n",
       "   multi_trans  cluster  gender  past_3_years_bike_related_purchases  \\\n",
       "0            0     high  Female                                   93   \n",
       "1            0      low    Male                                   81   \n",
       "2            0      low    Male                                   33   \n",
       "3            0   medium  Female                                   56   \n",
       "4            0   medium    Male                                   35   \n",
       "\n",
       "      wealth_segment  owns_car  tenure  age  state  property_valuation  \n",
       "0      Mass Customer       Yes      11   64    NSW                  10  \n",
       "1      Mass Customer       Yes      16   37    NSW                  10  \n",
       "2      Mass Customer        No       7   56    QLD                   9  \n",
       "3  Affluent Customer       Yes       8   40    NSW                   4  \n",
       "4     High Net Worth       Yes      13   51    VIC                   9  \n",
       "\n",
       "[5 rows x 29 columns]"
      ]
     },
     "execution_count": 77,
     "metadata": {},
     "output_type": "execute_result"
    }
   ],
   "source": [
    "df.head()"
   ]
  },
  {
   "cell_type": "code",
   "execution_count": 78,
   "metadata": {},
   "outputs": [],
   "source": [
    "df = df.drop(columns = ['customer_id'], axis=1)"
   ]
  },
  {
   "cell_type": "code",
   "execution_count": 79,
   "metadata": {},
   "outputs": [],
   "source": [
    "X = df.drop(columns=['cluster']).copy()"
   ]
  },
  {
   "cell_type": "code",
   "execution_count": 80,
   "metadata": {},
   "outputs": [],
   "source": [
    "X = pd.get_dummies(X) "
   ]
  },
  {
   "cell_type": "code",
   "execution_count": 81,
   "metadata": {},
   "outputs": [
    {
     "data": {
      "text/html": [
       "<div>\n",
       "<style scoped>\n",
       "    .dataframe tbody tr th:only-of-type {\n",
       "        vertical-align: middle;\n",
       "    }\n",
       "\n",
       "    .dataframe tbody tr th {\n",
       "        vertical-align: top;\n",
       "    }\n",
       "\n",
       "    .dataframe thead th {\n",
       "        text-align: right;\n",
       "    }\n",
       "</style>\n",
       "<table border=\"1\" class=\"dataframe\">\n",
       "  <thead>\n",
       "    <tr style=\"text-align: right;\">\n",
       "      <th></th>\n",
       "      <th>product_age_new</th>\n",
       "      <th>product_age_old</th>\n",
       "      <th>Giant Bicycles</th>\n",
       "      <th>Norco Bicycles</th>\n",
       "      <th>OHM Cycles</th>\n",
       "      <th>Solex</th>\n",
       "      <th>Trek Bicycles</th>\n",
       "      <th>WeareA2B</th>\n",
       "      <th>Mountain</th>\n",
       "      <th>Road</th>\n",
       "      <th>...</th>\n",
       "      <th>gender_Female</th>\n",
       "      <th>gender_Male</th>\n",
       "      <th>wealth_segment_Affluent Customer</th>\n",
       "      <th>wealth_segment_High Net Worth</th>\n",
       "      <th>wealth_segment_Mass Customer</th>\n",
       "      <th>owns_car_No</th>\n",
       "      <th>owns_car_Yes</th>\n",
       "      <th>state_NSW</th>\n",
       "      <th>state_QLD</th>\n",
       "      <th>state_VIC</th>\n",
       "    </tr>\n",
       "  </thead>\n",
       "  <tbody>\n",
       "    <tr>\n",
       "      <th>0</th>\n",
       "      <td>2</td>\n",
       "      <td>9</td>\n",
       "      <td>4</td>\n",
       "      <td>2</td>\n",
       "      <td>2</td>\n",
       "      <td>2</td>\n",
       "      <td>1</td>\n",
       "      <td>0</td>\n",
       "      <td>1</td>\n",
       "      <td>3</td>\n",
       "      <td>...</td>\n",
       "      <td>1</td>\n",
       "      <td>0</td>\n",
       "      <td>0</td>\n",
       "      <td>0</td>\n",
       "      <td>1</td>\n",
       "      <td>0</td>\n",
       "      <td>1</td>\n",
       "      <td>1</td>\n",
       "      <td>0</td>\n",
       "      <td>0</td>\n",
       "    </tr>\n",
       "    <tr>\n",
       "      <th>1</th>\n",
       "      <td>1</td>\n",
       "      <td>2</td>\n",
       "      <td>1</td>\n",
       "      <td>0</td>\n",
       "      <td>0</td>\n",
       "      <td>0</td>\n",
       "      <td>0</td>\n",
       "      <td>2</td>\n",
       "      <td>0</td>\n",
       "      <td>0</td>\n",
       "      <td>...</td>\n",
       "      <td>0</td>\n",
       "      <td>1</td>\n",
       "      <td>0</td>\n",
       "      <td>0</td>\n",
       "      <td>1</td>\n",
       "      <td>0</td>\n",
       "      <td>1</td>\n",
       "      <td>1</td>\n",
       "      <td>0</td>\n",
       "      <td>0</td>\n",
       "    </tr>\n",
       "    <tr>\n",
       "      <th>2</th>\n",
       "      <td>0</td>\n",
       "      <td>2</td>\n",
       "      <td>1</td>\n",
       "      <td>0</td>\n",
       "      <td>0</td>\n",
       "      <td>1</td>\n",
       "      <td>0</td>\n",
       "      <td>0</td>\n",
       "      <td>0</td>\n",
       "      <td>0</td>\n",
       "      <td>...</td>\n",
       "      <td>0</td>\n",
       "      <td>1</td>\n",
       "      <td>0</td>\n",
       "      <td>0</td>\n",
       "      <td>1</td>\n",
       "      <td>1</td>\n",
       "      <td>0</td>\n",
       "      <td>0</td>\n",
       "      <td>1</td>\n",
       "      <td>0</td>\n",
       "    </tr>\n",
       "    <tr>\n",
       "      <th>3</th>\n",
       "      <td>3</td>\n",
       "      <td>3</td>\n",
       "      <td>1</td>\n",
       "      <td>2</td>\n",
       "      <td>0</td>\n",
       "      <td>1</td>\n",
       "      <td>1</td>\n",
       "      <td>1</td>\n",
       "      <td>1</td>\n",
       "      <td>3</td>\n",
       "      <td>...</td>\n",
       "      <td>1</td>\n",
       "      <td>0</td>\n",
       "      <td>1</td>\n",
       "      <td>0</td>\n",
       "      <td>0</td>\n",
       "      <td>0</td>\n",
       "      <td>1</td>\n",
       "      <td>1</td>\n",
       "      <td>0</td>\n",
       "      <td>0</td>\n",
       "    </tr>\n",
       "    <tr>\n",
       "      <th>4</th>\n",
       "      <td>3</td>\n",
       "      <td>2</td>\n",
       "      <td>2</td>\n",
       "      <td>0</td>\n",
       "      <td>0</td>\n",
       "      <td>0</td>\n",
       "      <td>1</td>\n",
       "      <td>2</td>\n",
       "      <td>0</td>\n",
       "      <td>0</td>\n",
       "      <td>...</td>\n",
       "      <td>0</td>\n",
       "      <td>1</td>\n",
       "      <td>0</td>\n",
       "      <td>1</td>\n",
       "      <td>0</td>\n",
       "      <td>0</td>\n",
       "      <td>1</td>\n",
       "      <td>0</td>\n",
       "      <td>0</td>\n",
       "      <td>1</td>\n",
       "    </tr>\n",
       "  </tbody>\n",
       "</table>\n",
       "<p>5 rows × 33 columns</p>\n",
       "</div>"
      ],
      "text/plain": [
       "   product_age_new  product_age_old  Giant Bicycles  Norco Bicycles  \\\n",
       "0                2                9               4               2   \n",
       "1                1                2               1               0   \n",
       "2                0                2               1               0   \n",
       "3                3                3               1               2   \n",
       "4                3                2               2               0   \n",
       "\n",
       "   OHM Cycles  Solex  Trek Bicycles  WeareA2B  Mountain  Road  ...  \\\n",
       "0           2      2              1         0         1     3  ...   \n",
       "1           0      0              0         2         0     0  ...   \n",
       "2           0      1              0         0         0     0  ...   \n",
       "3           0      1              1         1         1     3  ...   \n",
       "4           0      0              1         2         0     0  ...   \n",
       "\n",
       "   gender_Female  gender_Male  wealth_segment_Affluent Customer  \\\n",
       "0              1            0                                 0   \n",
       "1              0            1                                 0   \n",
       "2              0            1                                 0   \n",
       "3              1            0                                 1   \n",
       "4              0            1                                 0   \n",
       "\n",
       "   wealth_segment_High Net Worth  wealth_segment_Mass Customer  owns_car_No  \\\n",
       "0                              0                             1            0   \n",
       "1                              0                             1            0   \n",
       "2                              0                             1            1   \n",
       "3                              0                             0            0   \n",
       "4                              1                             0            0   \n",
       "\n",
       "   owns_car_Yes  state_NSW  state_QLD  state_VIC  \n",
       "0             1          1          0          0  \n",
       "1             1          1          0          0  \n",
       "2             0          0          1          0  \n",
       "3             1          1          0          0  \n",
       "4             1          0          0          1  \n",
       "\n",
       "[5 rows x 33 columns]"
      ]
     },
     "execution_count": 81,
     "metadata": {},
     "output_type": "execute_result"
    }
   ],
   "source": [
    "X.head()"
   ]
  },
  {
   "cell_type": "code",
   "execution_count": 82,
   "metadata": {},
   "outputs": [],
   "source": [
    "y = df['cluster']"
   ]
  },
  {
   "cell_type": "code",
   "execution_count": 83,
   "metadata": {},
   "outputs": [],
   "source": [
    "X_train, X_rem, y_train, y_rem = train_test_split(X, y, train_size=0.8)"
   ]
  },
  {
   "cell_type": "code",
   "execution_count": 84,
   "metadata": {},
   "outputs": [],
   "source": [
    "X_valid, X_test, y_valid, y_test = train_test_split(X_rem,y_rem, test_size=0.5)"
   ]
  },
  {
   "cell_type": "code",
   "execution_count": 85,
   "metadata": {},
   "outputs": [
    {
     "name": "stdout",
     "output_type": "stream",
     "text": [
      "the shape of X_train is (2726, 33), the shape of y_train is  (2726,)\n",
      "the shape of X_valid is (341, 33), the shape of y_valid is  (341,)\n",
      "the shape of X_test is (341, 33), the shape of y_test is  (341,)\n"
     ]
    }
   ],
   "source": [
    "# check datasets shape\n",
    "print(f'the shape of X_train is {X_train.shape}, the shape of y_train is  {y_train.shape}')\n",
    "print(f'the shape of X_valid is {X_valid.shape}, the shape of y_valid is  {y_valid.shape}')\n",
    "print(f'the shape of X_test is {X_test.shape}, the shape of y_test is  {y_test.shape}')"
   ]
  },
  {
   "cell_type": "markdown",
   "metadata": {},
   "source": [
    "## Fit model"
   ]
  },
  {
   "cell_type": "code",
   "execution_count": 86,
   "metadata": {},
   "outputs": [],
   "source": [
    "dtclf = DecisionTreeClassifier()\n",
    "dtclf.fit(X_train, y_train)\n",
    "y_predict = dtclf.predict(X_test)"
   ]
  },
  {
   "cell_type": "code",
   "execution_count": 87,
   "metadata": {},
   "outputs": [
    {
     "name": "stdout",
     "output_type": "stream",
     "text": [
      "              precision    recall  f1-score   support\n",
      "\n",
      "        high       0.84      0.83      0.83       109\n",
      "         low       0.29      0.29      0.29        65\n",
      "      medium       0.67      0.68      0.67       167\n",
      "\n",
      "    accuracy                           0.65       341\n",
      "   macro avg       0.60      0.60      0.60       341\n",
      "weighted avg       0.65      0.65      0.65       341\n",
      "\n"
     ]
    }
   ],
   "source": [
    "print(classification_report(y_test, y_predict))"
   ]
  },
  {
   "cell_type": "code",
   "execution_count": 89,
   "metadata": {},
   "outputs": [
    {
     "name": "stdout",
     "output_type": "stream",
     "text": [
      "Classification report: DT\n",
      "-------------------------------\n",
      "Matthews Coefficient: 0.44\n"
     ]
    },
    {
     "data": {
      "image/png": "[encoded data removed]",
      "text/plain": [
       "<Figure size 432x288 with 2 Axes>"
      ]
     },
     "metadata": {
      "needs_background": "light"
     },
     "output_type": "display_data"
    }
   ],
   "source": [
    "class_names = ['high', 'low', 'medium']\n",
    "    \n",
    "plot_confusion_matrix(confusion_matrix(y_test,y_predict),\n",
    "                      class_names, \n",
    "                      normalize=False,\n",
    "                      title='Normalized Confusion Matrix: Decision Tree')\n",
    "\n",
    "print('Classification report: DT')\n",
    "print('-------------------------------')\n",
    "report(y_test, y_predict, class_names)"
   ]
  },
  {
   "cell_type": "code",
   "execution_count": 90,
   "metadata": {},
   "outputs": [
    {
     "data": {
      "image/png": "[encoded data removed]",
      "text/plain": [
       "<Figure size 432x288 with 1 Axes>"
      ]
     },
     "metadata": {
      "needs_background": "light"
     },
     "output_type": "display_data"
    }
   ],
   "source": [
    "# plotting feature importances\n",
    "importance = dtclf.feature_importances_\n",
    "# summarize feature importance\n",
    "#for i,v in enumerate(importance):\n",
    "    #print('Feature: %0d, Score: %.5f' % (i,v))\n",
    "# plot feature importance\n",
    "plt.bar([x for x in range(len(importance))], importance)\n",
    "\n",
    "plt.xlabel('Feature', fontsize =15)\n",
    "plt.ylabel('Score', fontsize =15)\n",
    "plt.title('Important features in Decision tree model', fontsize =18)\n",
    "plt.show()\n",
    "\n",
    "plt.show()"
   ]
  },
  {
   "cell_type": "code",
   "execution_count": 92,
   "metadata": {},
   "outputs": [
    {
     "name": "stdout",
     "output_type": "stream",
     "text": [
      "Feature: 1, Score: 0.03544\n",
      "Feature: 9, Score: 0.04610\n",
      "Feature: 10, Score: 0.24174\n",
      "Feature: 11, Score: 0.02247\n",
      "Feature: 12, Score: 0.03223\n",
      "Feature: 13, Score: 0.03114\n",
      "Feature: 14, Score: 0.11857\n",
      "Feature: 16, Score: 0.03106\n",
      "Feature: 19, Score: 0.06568\n",
      "Feature: 20, Score: 0.04382\n",
      "Feature: 21, Score: 0.05725\n",
      "Feature: 22, Score: 0.04525\n"
     ]
    }
   ],
   "source": [
    "for i,v in enumerate(importance):\n",
    "    if v > 0.02:\n",
    "        print('Feature: %0d, Score: %.5f' % (i,v))"
   ]
  },
  {
   "cell_type": "code",
   "execution_count": 93,
   "metadata": {},
   "outputs": [
    {
     "data": {
      "text/plain": [
       "Index(['Standard', 'Touring', 'past_3_years_bike_related_purchases', 'age'], dtype='object')"
      ]
     },
     "execution_count": 93,
     "metadata": {},
     "output_type": "execute_result"
    }
   ],
   "source": [
    "X.columns[[10,11,19,21]]"
   ]
  },
  {
   "cell_type": "markdown",
   "metadata": {},
   "source": [
    "# Demo +Trans (first three transactions)"
   ]
  },
  {
   "cell_type": "markdown",
   "metadata": {},
   "source": [
    "## Split data into training, test, validation"
   ]
  },
  {
   "cell_type": "code",
   "execution_count": 97,
   "metadata": {},
   "outputs": [],
   "source": [
    "df = PastCust_trans_cut_f3t_labeled_3.merge(PastCust_demo_labeled_3, \n",
    "                                   on = 'customer_id',\n",
    "                                   how = 'inner')"
   ]
  },
  {
   "cell_type": "code",
   "execution_count": 98,
   "metadata": {},
   "outputs": [
    {
     "data": {
      "text/plain": [
       "Index(['customer_id', 'product_age_new', 'product_age_old', 'Giant Bicycles',\n",
       "       'Norco Bicycles', 'OHM Cycles', 'Solex', 'Trek Bicycles', 'WeareA2B',\n",
       "       'Mountain', 'Road', 'Standard', 'Touring', 'product_class_high',\n",
       "       'product_class_low', 'product_class_medium', 'product_size_large',\n",
       "       'product_size_medium', 'product_size_small', 'multi_trans', 'cluster_x',\n",
       "       'gender', 'past_3_years_bike_related_purchases', 'wealth_segment',\n",
       "       'owns_car', 'tenure', 'age', 'state', 'property_valuation',\n",
       "       'cluster_y'],\n",
       "      dtype='object')"
      ]
     },
     "execution_count": 98,
     "metadata": {},
     "output_type": "execute_result"
    }
   ],
   "source": [
    "df.columns"
   ]
  },
  {
   "cell_type": "code",
   "execution_count": 99,
   "metadata": {},
   "outputs": [],
   "source": [
    "df.rename(columns = {'cluster_x':'cluster'}, inplace=True)\n",
    "df.drop('cluster_y', axis=1, inplace=True)"
   ]
  },
  {
   "cell_type": "code",
   "execution_count": 100,
   "metadata": {},
   "outputs": [],
   "source": [
    "df = df.drop(columns = ['customer_id'], axis=1)"
   ]
  },
  {
   "cell_type": "code",
   "execution_count": 101,
   "metadata": {},
   "outputs": [],
   "source": [
    "X = df.drop(columns=['cluster']).copy()"
   ]
  },
  {
   "cell_type": "code",
   "execution_count": 102,
   "metadata": {},
   "outputs": [],
   "source": [
    "X = pd.get_dummies(X) "
   ]
  },
  {
   "cell_type": "code",
   "execution_count": 103,
   "metadata": {},
   "outputs": [],
   "source": [
    "y = df['cluster']"
   ]
  },
  {
   "cell_type": "code",
   "execution_count": 104,
   "metadata": {},
   "outputs": [],
   "source": [
    "X_train, X_rem, y_train, y_rem = train_test_split(X, y, train_size=0.8)"
   ]
  },
  {
   "cell_type": "code",
   "execution_count": 105,
   "metadata": {},
   "outputs": [],
   "source": [
    "X_valid, X_test, y_valid, y_test = train_test_split(X_rem,y_rem, test_size=0.5)"
   ]
  },
  {
   "cell_type": "code",
   "execution_count": 106,
   "metadata": {},
   "outputs": [
    {
     "name": "stdout",
     "output_type": "stream",
     "text": [
      "the shape of X_train is (2726, 33), the shape of y_train is  (2726,)\n",
      "the shape of X_valid is (341, 33), the shape of y_valid is  (341,)\n",
      "the shape of X_test is (341, 33), the shape of y_test is  (341,)\n"
     ]
    }
   ],
   "source": [
    "# check datasets shape\n",
    "print(f'the shape of X_train is {X_train.shape}, the shape of y_train is  {y_train.shape}')\n",
    "print(f'the shape of X_valid is {X_valid.shape}, the shape of y_valid is  {y_valid.shape}')\n",
    "print(f'the shape of X_test is {X_test.shape}, the shape of y_test is  {y_test.shape}')"
   ]
  },
  {
   "cell_type": "markdown",
   "metadata": {},
   "source": [
    "## Fit model"
   ]
  },
  {
   "cell_type": "code",
   "execution_count": 107,
   "metadata": {},
   "outputs": [],
   "source": [
    "dtclf = DecisionTreeClassifier()\n",
    "dtclf.fit(X_train, y_train)\n",
    "y_predict = dtclf.predict(X_test)"
   ]
  },
  {
   "cell_type": "code",
   "execution_count": 108,
   "metadata": {},
   "outputs": [
    {
     "name": "stdout",
     "output_type": "stream",
     "text": [
      "              precision    recall  f1-score   support\n",
      "\n",
      "        high       0.36      0.35      0.36       113\n",
      "         low       0.23      0.21      0.22        58\n",
      "      medium       0.50      0.52      0.51       170\n",
      "\n",
      "    accuracy                           0.41       341\n",
      "   macro avg       0.36      0.36      0.36       341\n",
      "weighted avg       0.41      0.41      0.41       341\n",
      "\n"
     ]
    }
   ],
   "source": [
    "print(classification_report(y_test, y_predict))"
   ]
  },
  {
   "cell_type": "code",
   "execution_count": 109,
   "metadata": {},
   "outputs": [
    {
     "name": "stdout",
     "output_type": "stream",
     "text": [
      "Classification report: DT\n",
      "-------------------------------\n",
      "Matthews Coefficient: 0.03\n"
     ]
    },
    {
     "data": {
      "image/png": "[encoded data removed]",
      "text/plain": [
       "<Figure size 432x288 with 2 Axes>"
      ]
     },
     "metadata": {
      "needs_background": "light"
     },
     "output_type": "display_data"
    }
   ],
   "source": [
    "class_names = ['high', 'low', 'medium']\n",
    "\n",
    "confusion_matrix(y_test,y_predict)\n",
    "\n",
    "plot_confusion_matrix(confusion_matrix(y_test,y_predict),\n",
    "                      class_names, \n",
    "                      normalize=False,\n",
    "                      title='Normalized Confusion Matrix: Decision Tree')\n",
    "\n",
    "print('Classification report: DT')\n",
    "print('-------------------------------')\n",
    "report(y_test, y_predict, class_names)"
   ]
  },
  {
   "cell_type": "code",
   "execution_count": 110,
   "metadata": {},
   "outputs": [
    {
     "data": {
      "text/plain": [
       "array([[40, 13, 60],\n",
       "       [17, 12, 29],\n",
       "       [55, 27, 88]])"
      ]
     },
     "execution_count": 110,
     "metadata": {},
     "output_type": "execute_result"
    }
   ],
   "source": [
    "confusion_matrix(y_test,y_predict)"
   ]
  },
  {
   "cell_type": "markdown",
   "metadata": {},
   "source": [
    "# Demo + Trans (first three months)"
   ]
  },
  {
   "cell_type": "markdown",
   "metadata": {},
   "source": [
    "## Split data into training, test, validaion"
   ]
  },
  {
   "cell_type": "code",
   "execution_count": 111,
   "metadata": {},
   "outputs": [],
   "source": [
    "df = PastCust_trans_cut_f3m_labeled_3.merge(PastCust_demo_labeled_3, \n",
    "                                   on = 'customer_id',\n",
    "                                   how = 'inner')"
   ]
  },
  {
   "cell_type": "code",
   "execution_count": 112,
   "metadata": {},
   "outputs": [
    {
     "data": {
      "text/plain": [
       "Index(['customer_id', 'product_age_new', 'product_age_old', 'Giant Bicycles',\n",
       "       'Norco Bicycles', 'OHM Cycles', 'Solex', 'Trek Bicycles', 'WeareA2B',\n",
       "       'Mountain', 'Road', 'Standard', 'Touring', 'product_class_high',\n",
       "       'product_class_low', 'product_class_medium', 'product_size_large',\n",
       "       'product_size_medium', 'product_size_small', 'multi_trans', 'cluster_x',\n",
       "       'gender', 'past_3_years_bike_related_purchases', 'wealth_segment',\n",
       "       'owns_car', 'tenure', 'age', 'state', 'property_valuation',\n",
       "       'cluster_y'],\n",
       "      dtype='object')"
      ]
     },
     "execution_count": 112,
     "metadata": {},
     "output_type": "execute_result"
    }
   ],
   "source": [
    "df.columns"
   ]
  },
  {
   "cell_type": "code",
   "execution_count": 113,
   "metadata": {},
   "outputs": [],
   "source": [
    "df.rename(columns = {'cluster_x':'cluster'}, inplace=True)\n",
    "df.drop('cluster_y', axis=1, inplace=True)"
   ]
  },
  {
   "cell_type": "code",
   "execution_count": 114,
   "metadata": {},
   "outputs": [],
   "source": [
    "df = df.drop(columns = ['customer_id'], axis=1)"
   ]
  },
  {
   "cell_type": "code",
   "execution_count": 115,
   "metadata": {},
   "outputs": [],
   "source": [
    "X = df.drop(columns=['cluster']).copy()"
   ]
  },
  {
   "cell_type": "code",
   "execution_count": 116,
   "metadata": {},
   "outputs": [],
   "source": [
    "X = pd.get_dummies(X) "
   ]
  },
  {
   "cell_type": "code",
   "execution_count": 117,
   "metadata": {},
   "outputs": [],
   "source": [
    "y = df['cluster']"
   ]
  },
  {
   "cell_type": "code",
   "execution_count": 118,
   "metadata": {},
   "outputs": [],
   "source": [
    "X_train, X_rem, y_train, y_rem = train_test_split(X, y, train_size=0.8)"
   ]
  },
  {
   "cell_type": "code",
   "execution_count": 119,
   "metadata": {},
   "outputs": [],
   "source": [
    "X_valid, X_test, y_valid, y_test = train_test_split(X_rem,y_rem, test_size=0.5)"
   ]
  },
  {
   "cell_type": "code",
   "execution_count": 120,
   "metadata": {},
   "outputs": [
    {
     "name": "stdout",
     "output_type": "stream",
     "text": [
      "the shape of X_train is (2033, 33), the shape of y_train is  (2033,)\n",
      "the shape of X_valid is (254, 33), the shape of y_valid is  (254,)\n",
      "the shape of X_test is (255, 33), the shape of y_test is  (255,)\n"
     ]
    }
   ],
   "source": [
    "# check datasets shape\n",
    "print(f'the shape of X_train is {X_train.shape}, the shape of y_train is  {y_train.shape}')\n",
    "print(f'the shape of X_valid is {X_valid.shape}, the shape of y_valid is  {y_valid.shape}')\n",
    "print(f'the shape of X_test is {X_test.shape}, the shape of y_test is  {y_test.shape}')"
   ]
  },
  {
   "cell_type": "markdown",
   "metadata": {},
   "source": [
    "## Fit model"
   ]
  },
  {
   "cell_type": "code",
   "execution_count": 121,
   "metadata": {},
   "outputs": [],
   "source": [
    "dtclf = DecisionTreeClassifier()\n",
    "dtclf.fit(X_train, y_train)\n",
    "y_predict = dtclf.predict(X_test)"
   ]
  },
  {
   "cell_type": "code",
   "execution_count": 122,
   "metadata": {},
   "outputs": [
    {
     "name": "stdout",
     "output_type": "stream",
     "text": [
      "              precision    recall  f1-score   support\n",
      "\n",
      "        high       0.43      0.50      0.46        92\n",
      "         low       0.17      0.19      0.18        42\n",
      "      medium       0.53      0.45      0.49       121\n",
      "\n",
      "    accuracy                           0.42       255\n",
      "   macro avg       0.38      0.38      0.38       255\n",
      "weighted avg       0.44      0.42      0.43       255\n",
      "\n"
     ]
    }
   ],
   "source": [
    "print(classification_report(y_test, y_predict))"
   ]
  },
  {
   "cell_type": "code",
   "execution_count": 123,
   "metadata": {},
   "outputs": [
    {
     "name": "stdout",
     "output_type": "stream",
     "text": [
      "Classification report: DT\n",
      "-------------------------------\n",
      "Matthews Coefficient: 0.09\n"
     ]
    },
    {
     "data": {
      "image/png": "[encoded data removed]",
      "text/plain": [
       "<Figure size 432x288 with 2 Axes>"
      ]
     },
     "metadata": {
      "needs_background": "light"
     },
     "output_type": "display_data"
    }
   ],
   "source": [
    "class_names = ['high', 'low', 'medium']\n",
    "\n",
    "confusion_matrix(y_test,y_predict)\n",
    "\n",
    "plot_confusion_matrix(confusion_matrix(y_test,y_predict),\n",
    "                      class_names, \n",
    "                      normalize=False,\n",
    "                      title='Normalized Confusion Matrix: Decision Tree')\n",
    "\n",
    "print('Classification report: DT')\n",
    "print('-------------------------------')\n",
    "report(y_test, y_predict, class_names)"
   ]
  },
  {
   "cell_type": "code",
   "execution_count": 124,
   "metadata": {},
   "outputs": [
    {
     "data": {
      "text/plain": [
       "array([[46, 18, 28],\n",
       "       [15,  8, 19],\n",
       "       [45, 22, 54]])"
      ]
     },
     "execution_count": 124,
     "metadata": {},
     "output_type": "execute_result"
    }
   ],
   "source": [
    "confusion_matrix(y_test,y_predict)"
   ]
  },
  {
   "cell_type": "markdown",
   "metadata": {},
   "source": [
    "# Model Comparison"
   ]
  },
  {
   "cell_type": "markdown",
   "metadata": {},
   "source": [
    "| Model # | Data used | F-1 | Matthews_Coefficient |\n",
    "| --- | --- | --- | --- |\n",
    "| 1 | transaction data (2017 yr) | 0.62 | 0.38 |\n",
    "| 2 | transaction data (first three transactions) | 0.39 | 0.02 |\n",
    "| 3 | transaction data (first three months) | 0.39 | 0.03 |\n",
    "| 4 | demographic data | 0.38 | 0.0 |\n",
    "| 5 | demographic + transaction data (2017 yr) | 0.65 | 0.44 |\n",
    "| 6 | demographic + transaction data (first three transactions) | 0.41 | 0.03 |\n",
    "| 7 | demographic + transaction data (first three months) | 0.42 | 0.09 |"
   ]
  },
  {
   "cell_type": "code",
   "execution_count": null,
   "metadata": {},
   "outputs": [],
   "source": []
  }
 ],
 "metadata": {
  "kernelspec": {
   "display_name": "Python 3",
   "language": "python",
   "name": "python3"
  },
  "language_info": {
   "codemirror_mode": {
    "name": "ipython",
    "version": 3
   },
   "file_extension": ".py",
   "mimetype": "text/x-python",
   "name": "python",
   "nbconvert_exporter": "python",
   "pygments_lexer": "ipython3",
   "version": "3.7.4"
  },
  "toc": {
   "base_numbering": 1,
   "nav_menu": {},
   "number_sections": false,
   "sideBar": true,
   "skip_h1_title": false,
   "title_cell": "Table of Contents",
   "title_sidebar": "Contents",
   "toc_cell": false,
   "toc_position": {
    "height": "calc(100% - 180px)",
    "left": "10px",
    "top": "150px",
    "width": "254px"
   },
   "toc_section_display": true,
   "toc_window_display": true
  }
 },
 "nbformat": 4,
 "nbformat_minor": 2
}
