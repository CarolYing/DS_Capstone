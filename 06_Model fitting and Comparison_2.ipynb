{
 "cells": [
  {
   "cell_type": "markdown",
   "metadata": {},
   "source": [
    "# Import Packages"
   ]
  },
  {
   "cell_type": "code",
   "execution_count": 3,
   "metadata": {},
   "outputs": [],
   "source": [
    "import warnings\n",
    "warnings.filterwarnings('ignore')\n",
    "\n",
    "import numpy as np\n",
    "import pandas as pd\n",
    "import matplotlib.pyplot as plt\n",
    "plt.figure(figsize=(8, 6))\n",
    "%matplotlib inline\n",
    "import seaborn as sns\n",
    "\n",
    "import datetime as dt\n",
    "\n",
    "import missingno as msno # viz missing values\n",
    "\n",
    "sns.set_style(\"darkgrid\")\n",
    "import itertools"
   ]
  },
  {
   "cell_type": "code",
   "execution_count": 4,
   "metadata": {},
   "outputs": [],
   "source": [
    "from sklearn.model_selection import train_test_split\n",
    "from sklearn.metrics import accuracy_score, confusion_matrix\n",
    "from sklearn.metrics import accuracy_score\n",
    "\n",
    "from sklearn import metrics\n",
    "from sklearn.metrics import classification_report\n",
    "from sklearn.metrics import cohen_kappa_score\n",
    "from sklearn.metrics import matthews_corrcoef\n",
    "\n",
    "from sklearn.model_selection import RepeatedStratifiedKFold\n",
    "from sklearn.model_selection import cross_val_score\n",
    "from sklearn.model_selection import GridSearchCV\n",
    "\n",
    "from sklearn.tree import DecisionTreeClassifier\n",
    "from xgboost import XGBClassifier"
   ]
  },
  {
   "cell_type": "markdown",
   "metadata": {},
   "source": [
    "# Utility Functions and Pipelines"
   ]
  },
  {
   "cell_type": "code",
   "execution_count": 5,
   "metadata": {},
   "outputs": [],
   "source": [
    "def plot_confusion_matrix(cm, classes,\n",
    "                          normalize=False,\n",
    "                          title='Confusion matrix',\n",
    "                          cmap=plt.cm.Blues):\n",
    "    if normalize:\n",
    "        cm = cm.astype('float') / cm.sum(axis=1)[:, np.newaxis]\n",
    "        \n",
    "    #print(cm)\n",
    "\n",
    "    plt.imshow(cm, interpolation='nearest', cmap=cmap)\n",
    "    plt.title(title)\n",
    "    plt.colorbar()\n",
    "    tick_marks = np.arange(len(classes))\n",
    "    plt.xticks(tick_marks, classes)\n",
    "    plt.yticks(tick_marks, classes)\n",
    "    plt.grid(False)\n",
    "\n",
    "    fmt = '.2f' if normalize else 'd'\n",
    "    thresh = cm.max() / 2.\n",
    "    for i, j in itertools.product(range(cm.shape[0]), range(cm.shape[1])):\n",
    "        plt.text(j, i, format(cm[i, j], fmt),\n",
    "                 horizontalalignment=\"center\",\n",
    "                 color=\"white\" if cm[i, j] > thresh else \"black\")\n",
    "\n",
    "    plt.tight_layout()\n",
    "    plt.ylabel('True label')\n",
    "    plt.xlabel('Predicted label')"
   ]
  },
  {
   "cell_type": "code",
   "execution_count": 6,
   "metadata": {},
   "outputs": [],
   "source": [
    "def report(true_y, pred_y, class_names):\n",
    "    \n",
    "    # Matthews Correlation Coefficient\n",
    "    Matthews_Coefficient = round(metrics.matthews_corrcoef(true_y, pred_y),2)\n",
    "    print(f'Matthews Coefficient: {Matthews_Coefficient}') # values over 0.7 are considered good scores"
   ]
  },
  {
   "cell_type": "markdown",
   "metadata": {},
   "source": [
    "# Read datasets"
   ]
  },
  {
   "cell_type": "code",
   "execution_count": 7,
   "metadata": {},
   "outputs": [],
   "source": [
    "PastCust_trans_labeled_2 = pd.read_excel('PastCust_trans_labeled_2.xlsx')"
   ]
  },
  {
   "cell_type": "code",
   "execution_count": 9,
   "metadata": {},
   "outputs": [],
   "source": [
    "PastCust_trans_cut_f3t_labeled_2 = pd.read_excel('PastCust_trans_cut_f3t_labeled_2.xlsx')"
   ]
  },
  {
   "cell_type": "code",
   "execution_count": 11,
   "metadata": {},
   "outputs": [],
   "source": [
    "PastCust_trans_cut_f3m_labeled_2 = pd.read_excel('PastCust_trans_cut_f3m_labeled_2.xlsx')"
   ]
  },
  {
   "cell_type": "code",
   "execution_count": 13,
   "metadata": {},
   "outputs": [],
   "source": [
    "PastCust_demo_cat_labeled_2 = pd.read_excel('PastCust_demo_cat_labeled_2.xlsx')"
   ]
  },
  {
   "cell_type": "code",
   "execution_count": 15,
   "metadata": {},
   "outputs": [],
   "source": [
    "PastCust_demo_labeled_2 = pd.read_excel('PastCust_demo_labeled_2.xlsx')"
   ]
  },
  {
   "cell_type": "markdown",
   "metadata": {},
   "source": [
    "# Transaction data"
   ]
  },
  {
   "cell_type": "code",
   "execution_count": 17,
   "metadata": {},
   "outputs": [
    {
     "data": {
      "text/html": [
       "<div>\n",
       "<style scoped>\n",
       "    .dataframe tbody tr th:only-of-type {\n",
       "        vertical-align: middle;\n",
       "    }\n",
       "\n",
       "    .dataframe tbody tr th {\n",
       "        vertical-align: top;\n",
       "    }\n",
       "\n",
       "    .dataframe thead th {\n",
       "        text-align: right;\n",
       "    }\n",
       "</style>\n",
       "<table border=\"1\" class=\"dataframe\">\n",
       "  <thead>\n",
       "    <tr style=\"text-align: right;\">\n",
       "      <th></th>\n",
       "      <th>customer_id</th>\n",
       "      <th>product_age_new</th>\n",
       "      <th>product_age_old</th>\n",
       "      <th>Giant Bicycles</th>\n",
       "      <th>Norco Bicycles</th>\n",
       "      <th>OHM Cycles</th>\n",
       "      <th>Solex</th>\n",
       "      <th>Trek Bicycles</th>\n",
       "      <th>WeareA2B</th>\n",
       "      <th>Mountain</th>\n",
       "      <th>...</th>\n",
       "      <th>Standard</th>\n",
       "      <th>Touring</th>\n",
       "      <th>product_class_high</th>\n",
       "      <th>product_class_low</th>\n",
       "      <th>product_class_medium</th>\n",
       "      <th>product_size_large</th>\n",
       "      <th>product_size_medium</th>\n",
       "      <th>product_size_small</th>\n",
       "      <th>multi_trans</th>\n",
       "      <th>cluster</th>\n",
       "    </tr>\n",
       "  </thead>\n",
       "  <tbody>\n",
       "    <tr>\n",
       "      <th>0</th>\n",
       "      <td>1</td>\n",
       "      <td>2</td>\n",
       "      <td>9</td>\n",
       "      <td>4</td>\n",
       "      <td>2</td>\n",
       "      <td>2</td>\n",
       "      <td>2</td>\n",
       "      <td>1</td>\n",
       "      <td>0</td>\n",
       "      <td>1</td>\n",
       "      <td>...</td>\n",
       "      <td>7</td>\n",
       "      <td>0</td>\n",
       "      <td>1</td>\n",
       "      <td>2</td>\n",
       "      <td>8</td>\n",
       "      <td>0</td>\n",
       "      <td>9</td>\n",
       "      <td>2</td>\n",
       "      <td>0</td>\n",
       "      <td>high</td>\n",
       "    </tr>\n",
       "    <tr>\n",
       "      <th>1</th>\n",
       "      <td>2</td>\n",
       "      <td>1</td>\n",
       "      <td>2</td>\n",
       "      <td>1</td>\n",
       "      <td>0</td>\n",
       "      <td>0</td>\n",
       "      <td>0</td>\n",
       "      <td>0</td>\n",
       "      <td>2</td>\n",
       "      <td>0</td>\n",
       "      <td>...</td>\n",
       "      <td>3</td>\n",
       "      <td>0</td>\n",
       "      <td>0</td>\n",
       "      <td>0</td>\n",
       "      <td>3</td>\n",
       "      <td>0</td>\n",
       "      <td>3</td>\n",
       "      <td>0</td>\n",
       "      <td>0</td>\n",
       "      <td>low</td>\n",
       "    </tr>\n",
       "    <tr>\n",
       "      <th>2</th>\n",
       "      <td>3</td>\n",
       "      <td>4</td>\n",
       "      <td>3</td>\n",
       "      <td>2</td>\n",
       "      <td>2</td>\n",
       "      <td>0</td>\n",
       "      <td>0</td>\n",
       "      <td>3</td>\n",
       "      <td>0</td>\n",
       "      <td>1</td>\n",
       "      <td>...</td>\n",
       "      <td>3</td>\n",
       "      <td>0</td>\n",
       "      <td>1</td>\n",
       "      <td>2</td>\n",
       "      <td>4</td>\n",
       "      <td>3</td>\n",
       "      <td>2</td>\n",
       "      <td>2</td>\n",
       "      <td>0</td>\n",
       "      <td>high</td>\n",
       "    </tr>\n",
       "    <tr>\n",
       "      <th>3</th>\n",
       "      <td>4</td>\n",
       "      <td>0</td>\n",
       "      <td>2</td>\n",
       "      <td>1</td>\n",
       "      <td>0</td>\n",
       "      <td>0</td>\n",
       "      <td>1</td>\n",
       "      <td>0</td>\n",
       "      <td>0</td>\n",
       "      <td>0</td>\n",
       "      <td>...</td>\n",
       "      <td>2</td>\n",
       "      <td>0</td>\n",
       "      <td>0</td>\n",
       "      <td>0</td>\n",
       "      <td>2</td>\n",
       "      <td>1</td>\n",
       "      <td>1</td>\n",
       "      <td>0</td>\n",
       "      <td>0</td>\n",
       "      <td>low</td>\n",
       "    </tr>\n",
       "    <tr>\n",
       "      <th>4</th>\n",
       "      <td>5</td>\n",
       "      <td>3</td>\n",
       "      <td>3</td>\n",
       "      <td>1</td>\n",
       "      <td>2</td>\n",
       "      <td>0</td>\n",
       "      <td>1</td>\n",
       "      <td>1</td>\n",
       "      <td>1</td>\n",
       "      <td>1</td>\n",
       "      <td>...</td>\n",
       "      <td>2</td>\n",
       "      <td>0</td>\n",
       "      <td>1</td>\n",
       "      <td>2</td>\n",
       "      <td>3</td>\n",
       "      <td>2</td>\n",
       "      <td>2</td>\n",
       "      <td>2</td>\n",
       "      <td>0</td>\n",
       "      <td>high</td>\n",
       "    </tr>\n",
       "  </tbody>\n",
       "</table>\n",
       "<p>5 rows × 21 columns</p>\n",
       "</div>"
      ],
      "text/plain": [
       "   customer_id  product_age_new  product_age_old  Giant Bicycles  \\\n",
       "0            1                2                9               4   \n",
       "1            2                1                2               1   \n",
       "2            3                4                3               2   \n",
       "3            4                0                2               1   \n",
       "4            5                3                3               1   \n",
       "\n",
       "   Norco Bicycles  OHM Cycles  Solex  Trek Bicycles  WeareA2B  Mountain  ...  \\\n",
       "0               2           2      2              1         0         1  ...   \n",
       "1               0           0      0              0         2         0  ...   \n",
       "2               2           0      0              3         0         1  ...   \n",
       "3               0           0      1              0         0         0  ...   \n",
       "4               2           0      1              1         1         1  ...   \n",
       "\n",
       "   Standard  Touring  product_class_high  product_class_low  \\\n",
       "0         7        0                   1                  2   \n",
       "1         3        0                   0                  0   \n",
       "2         3        0                   1                  2   \n",
       "3         2        0                   0                  0   \n",
       "4         2        0                   1                  2   \n",
       "\n",
       "   product_class_medium  product_size_large  product_size_medium  \\\n",
       "0                     8                   0                    9   \n",
       "1                     3                   0                    3   \n",
       "2                     4                   3                    2   \n",
       "3                     2                   1                    1   \n",
       "4                     3                   2                    2   \n",
       "\n",
       "   product_size_small  multi_trans  cluster  \n",
       "0                   2            0     high  \n",
       "1                   0            0      low  \n",
       "2                   2            0     high  \n",
       "3                   0            0      low  \n",
       "4                   2            0     high  \n",
       "\n",
       "[5 rows x 21 columns]"
      ]
     },
     "execution_count": 17,
     "metadata": {},
     "output_type": "execute_result"
    }
   ],
   "source": [
    "PastCust_trans_labeled_2.head()"
   ]
  },
  {
   "cell_type": "markdown",
   "metadata": {},
   "source": [
    "## Split data into training, test, and validation sets"
   ]
  },
  {
   "cell_type": "code",
   "execution_count": 18,
   "metadata": {},
   "outputs": [],
   "source": [
    "df = PastCust_trans_labeled_2.drop(columns = ['customer_id'], axis=1)"
   ]
  },
  {
   "cell_type": "code",
   "execution_count": 19,
   "metadata": {},
   "outputs": [],
   "source": [
    "X = df.drop(columns=['cluster']).copy()\n",
    "y = df['cluster']"
   ]
  },
  {
   "cell_type": "code",
   "execution_count": 20,
   "metadata": {},
   "outputs": [],
   "source": [
    "X_train, X_rem, y_train, y_rem = train_test_split(X, y, train_size=0.8)"
   ]
  },
  {
   "cell_type": "code",
   "execution_count": 21,
   "metadata": {},
   "outputs": [],
   "source": [
    "X_valid, X_test, y_valid, y_test = train_test_split(X_rem,y_rem, test_size=0.5)"
   ]
  },
  {
   "cell_type": "code",
   "execution_count": 22,
   "metadata": {},
   "outputs": [
    {
     "name": "stdout",
     "output_type": "stream",
     "text": [
      "the shape of X_train is (2792, 19), the shape of y_train is  (2792,)\n",
      "the shape of X_valid is (349, 19), the shape of y_valid is  (349,)\n",
      "the shape of X_test is (349, 19), the shape of y_test is  (349,)\n"
     ]
    }
   ],
   "source": [
    "# check datasets shape\n",
    "print(f'the shape of X_train is {X_train.shape}, the shape of y_train is  {y_train.shape}')\n",
    "print(f'the shape of X_valid is {X_valid.shape}, the shape of y_valid is  {y_valid.shape}')\n",
    "print(f'the shape of X_test is {X_test.shape}, the shape of y_test is  {y_test.shape}')"
   ]
  },
  {
   "cell_type": "markdown",
   "metadata": {},
   "source": [
    "## Fit model"
   ]
  },
  {
   "cell_type": "code",
   "execution_count": 23,
   "metadata": {},
   "outputs": [],
   "source": [
    "dtclf = DecisionTreeClassifier()\n",
    "dtclf.fit(X_train, y_train)\n",
    "y_predict = dtclf.predict(X_test)"
   ]
  },
  {
   "cell_type": "code",
   "execution_count": 24,
   "metadata": {},
   "outputs": [
    {
     "name": "stdout",
     "output_type": "stream",
     "text": [
      "              precision    recall  f1-score   support\n",
      "\n",
      "        high       0.84      0.76      0.80       153\n",
      "         low       0.83      0.88      0.85       196\n",
      "\n",
      "    accuracy                           0.83       349\n",
      "   macro avg       0.83      0.82      0.83       349\n",
      "weighted avg       0.83      0.83      0.83       349\n",
      "\n"
     ]
    }
   ],
   "source": [
    "print(classification_report(y_test, y_predict))"
   ]
  },
  {
   "cell_type": "code",
   "execution_count": 25,
   "metadata": {},
   "outputs": [
    {
     "name": "stdout",
     "output_type": "stream",
     "text": [
      "Classification report: DT\n",
      "-------------------------------\n",
      "Matthews Coefficient: 0.66\n"
     ]
    },
    {
     "data": {
      "image/png": "[encoded data removed]",
      "text/plain": [
       "<Figure size 432x288 with 2 Axes>"
      ]
     },
     "metadata": {
      "needs_background": "light"
     },
     "output_type": "display_data"
    }
   ],
   "source": [
    "class_names = ['high', 'low']\n",
    "    \n",
    "plot_confusion_matrix(confusion_matrix(y_test,y_predict),\n",
    "                      class_names, \n",
    "                      normalize=False,\n",
    "                      title='Normalized Confusion Matrix: Decision Tree')\n",
    "\n",
    "print('Classification report: DT')\n",
    "print('-------------------------------')\n",
    "report(y_test, y_predict, class_names)"
   ]
  },
  {
   "cell_type": "code",
   "execution_count": 386,
   "metadata": {},
   "outputs": [
    {
     "name": "stdout",
     "output_type": "stream",
     "text": [
      "Feature: 0, Score: 0.02359\n",
      "Feature: 1, Score: 0.01301\n",
      "Feature: 2, Score: 0.02020\n",
      "Feature: 3, Score: 0.01754\n",
      "Feature: 4, Score: 0.01481\n",
      "Feature: 5, Score: 0.02412\n",
      "Feature: 6, Score: 0.01893\n",
      "Feature: 7, Score: 0.01758\n",
      "Feature: 8, Score: 0.01298\n",
      "Feature: 9, Score: 0.04570\n",
      "Feature: 10, Score: 0.40236\n",
      "Feature: 11, Score: 0.03622\n",
      "Feature: 12, Score: 0.05725\n",
      "Feature: 13, Score: 0.05638\n",
      "Feature: 14, Score: 0.17896\n",
      "Feature: 15, Score: 0.01870\n",
      "Feature: 16, Score: 0.02424\n",
      "Feature: 17, Score: 0.01171\n",
      "Feature: 18, Score: 0.00570\n"
     ]
    },
    {
     "data": {
      "image/png": "[encoded data removed]",
      "text/plain": [
       "<Figure size 432x288 with 1 Axes>"
      ]
     },
     "metadata": {},
     "output_type": "display_data"
    }
   ],
   "source": [
    "# plotting feature importances\n",
    "importance = dtclf.feature_importances_\n",
    "# summarize feature importance\n",
    "for i,v in enumerate(importance):\n",
    "    print('Feature: %0d, Score: %.5f' % (i,v))\n",
    "# plot feature importance\n",
    "plt.bar([x for x in range(len(importance))], importance)\n",
    "\n",
    "plt.xlabel('Feature', fontsize =15)\n",
    "plt.ylabel('Score', fontsize =15)\n",
    "plt.title('Important features in Decision tree model', fontsize =18)\n",
    "plt.show()\n",
    "\n",
    "plt.show()"
   ]
  },
  {
   "cell_type": "code",
   "execution_count": 387,
   "metadata": {},
   "outputs": [
    {
     "data": {
      "text/plain": [
       "Index(['Road', 'Standard', 'Touring', 'product_class_high',\n",
       "       'product_class_low', 'product_class_medium'],\n",
       "      dtype='object')"
      ]
     },
     "execution_count": 387,
     "metadata": {},
     "output_type": "execute_result"
    }
   ],
   "source": [
    "# Here are the top 5 important features\n",
    "# X.columns[[14,10,13,12,9]]\n",
    "X.columns[[9,10,11,12,13,14]]"
   ]
  },
  {
   "cell_type": "markdown",
   "metadata": {},
   "source": [
    "# Transaction data (first three transactions)"
   ]
  },
  {
   "cell_type": "markdown",
   "metadata": {},
   "source": [
    "## Split data into training, test, and validation sets"
   ]
  },
  {
   "cell_type": "code",
   "execution_count": 26,
   "metadata": {},
   "outputs": [],
   "source": [
    "df = PastCust_trans_cut_f3t_labeled_2.drop(columns = ['customer_id'], axis=1)"
   ]
  },
  {
   "cell_type": "code",
   "execution_count": 27,
   "metadata": {},
   "outputs": [],
   "source": [
    "X = df.drop(columns=['cluster']).copy()\n",
    "y = df['cluster']"
   ]
  },
  {
   "cell_type": "code",
   "execution_count": 28,
   "metadata": {},
   "outputs": [],
   "source": [
    "X_train, X_rem, y_train, y_rem = train_test_split(X, y, train_size=0.8)"
   ]
  },
  {
   "cell_type": "code",
   "execution_count": 29,
   "metadata": {},
   "outputs": [],
   "source": [
    "X_valid, X_test, y_valid, y_test = train_test_split(X_rem,y_rem, test_size=0.5)"
   ]
  },
  {
   "cell_type": "code",
   "execution_count": 30,
   "metadata": {},
   "outputs": [
    {
     "name": "stdout",
     "output_type": "stream",
     "text": [
      "the shape of X_train is (2792, 19), the shape of y_train is  (2792,)\n",
      "the shape of X_valid is (349, 19), the shape of y_valid is  (349,)\n",
      "the shape of X_test is (349, 19), the shape of y_test is  (349,)\n"
     ]
    }
   ],
   "source": [
    "# check datasets shape\n",
    "print(f'the shape of X_train is {X_train.shape}, the shape of y_train is  {y_train.shape}')\n",
    "print(f'the shape of X_valid is {X_valid.shape}, the shape of y_valid is  {y_valid.shape}')\n",
    "print(f'the shape of X_test is {X_test.shape}, the shape of y_test is  {y_test.shape}')"
   ]
  },
  {
   "cell_type": "markdown",
   "metadata": {},
   "source": [
    "## Fit model"
   ]
  },
  {
   "cell_type": "code",
   "execution_count": 31,
   "metadata": {},
   "outputs": [],
   "source": [
    "dtclf = DecisionTreeClassifier()\n",
    "dtclf.fit(X_train, y_train)\n",
    "y_predict = dtclf.predict(X_test)"
   ]
  },
  {
   "cell_type": "code",
   "execution_count": 32,
   "metadata": {},
   "outputs": [
    {
     "name": "stdout",
     "output_type": "stream",
     "text": [
      "              precision    recall  f1-score   support\n",
      "\n",
      "        high       0.49      0.48      0.49       158\n",
      "         low       0.58      0.59      0.58       191\n",
      "\n",
      "    accuracy                           0.54       349\n",
      "   macro avg       0.53      0.53      0.53       349\n",
      "weighted avg       0.54      0.54      0.54       349\n",
      "\n"
     ]
    }
   ],
   "source": [
    "print(classification_report(y_test, y_predict))"
   ]
  },
  {
   "cell_type": "code",
   "execution_count": 33,
   "metadata": {},
   "outputs": [
    {
     "name": "stdout",
     "output_type": "stream",
     "text": [
      "Classification report: DT\n",
      "-------------------------------\n",
      "Matthews Coefficient: 0.07\n"
     ]
    },
    {
     "data": {
      "image/png": "[encoded data removed]",
      "text/plain": [
       "<Figure size 432x288 with 2 Axes>"
      ]
     },
     "metadata": {
      "needs_background": "light"
     },
     "output_type": "display_data"
    }
   ],
   "source": [
    "class_names = ['high', 'low']\n",
    "    \n",
    "plot_confusion_matrix(confusion_matrix(y_test,y_predict),\n",
    "                      class_names, \n",
    "                      normalize=False,\n",
    "                      title='Normalized Confusion Matrix: Decision Tree')\n",
    "\n",
    "print('Classification report: DT')\n",
    "print('-------------------------------')\n",
    "report(y_test, y_predict, class_names)"
   ]
  },
  {
   "cell_type": "code",
   "execution_count": 34,
   "metadata": {},
   "outputs": [
    {
     "data": {
      "text/plain": [
       "array([[ 76,  82],\n",
       "       [ 79, 112]])"
      ]
     },
     "execution_count": 34,
     "metadata": {},
     "output_type": "execute_result"
    }
   ],
   "source": [
    "confusion_matrix(y_test,y_predict)"
   ]
  },
  {
   "cell_type": "markdown",
   "metadata": {},
   "source": [
    "# Transaction data (first three months)"
   ]
  },
  {
   "cell_type": "markdown",
   "metadata": {},
   "source": [
    "## Split data into training, test, and validation sets"
   ]
  },
  {
   "cell_type": "code",
   "execution_count": 35,
   "metadata": {},
   "outputs": [],
   "source": [
    "df = PastCust_trans_cut_f3m_labeled_2.drop(columns = ['customer_id'], axis=1)"
   ]
  },
  {
   "cell_type": "code",
   "execution_count": 36,
   "metadata": {},
   "outputs": [],
   "source": [
    "X = df.drop(columns=['cluster']).copy()\n",
    "y = df['cluster']"
   ]
  },
  {
   "cell_type": "code",
   "execution_count": 37,
   "metadata": {},
   "outputs": [],
   "source": [
    "X_train, X_rem, y_train, y_rem = train_test_split(X, y, train_size=0.8)"
   ]
  },
  {
   "cell_type": "code",
   "execution_count": 38,
   "metadata": {},
   "outputs": [],
   "source": [
    "X_valid, X_test, y_valid, y_test = train_test_split(X_rem,y_rem, test_size=0.5)"
   ]
  },
  {
   "cell_type": "code",
   "execution_count": 39,
   "metadata": {},
   "outputs": [
    {
     "name": "stdout",
     "output_type": "stream",
     "text": [
      "the shape of X_train is (2078, 19), the shape of y_train is  (2078,)\n",
      "the shape of X_valid is (260, 19), the shape of y_valid is  (260,)\n",
      "the shape of X_test is (260, 19), the shape of y_test is  (260,)\n"
     ]
    }
   ],
   "source": [
    "# check datasets shape\n",
    "print(f'the shape of X_train is {X_train.shape}, the shape of y_train is  {y_train.shape}')\n",
    "print(f'the shape of X_valid is {X_valid.shape}, the shape of y_valid is  {y_valid.shape}')\n",
    "print(f'the shape of X_test is {X_test.shape}, the shape of y_test is  {y_test.shape}')"
   ]
  },
  {
   "cell_type": "markdown",
   "metadata": {},
   "source": [
    "## Fit model"
   ]
  },
  {
   "cell_type": "code",
   "execution_count": 40,
   "metadata": {},
   "outputs": [],
   "source": [
    "dtclf = DecisionTreeClassifier()\n",
    "dtclf.fit(X_train, y_train)\n",
    "y_predict = dtclf.predict(X_test)"
   ]
  },
  {
   "cell_type": "code",
   "execution_count": 41,
   "metadata": {},
   "outputs": [
    {
     "name": "stdout",
     "output_type": "stream",
     "text": [
      "              precision    recall  f1-score   support\n",
      "\n",
      "        high       0.55      0.49      0.52       128\n",
      "         low       0.55      0.61      0.58       132\n",
      "\n",
      "    accuracy                           0.55       260\n",
      "   macro avg       0.55      0.55      0.55       260\n",
      "weighted avg       0.55      0.55      0.55       260\n",
      "\n"
     ]
    }
   ],
   "source": [
    "print(classification_report(y_test, y_predict))"
   ]
  },
  {
   "cell_type": "code",
   "execution_count": 42,
   "metadata": {},
   "outputs": [
    {
     "name": "stdout",
     "output_type": "stream",
     "text": [
      "Classification report: DT\n",
      "-------------------------------\n",
      "Matthews Coefficient: 0.1\n"
     ]
    },
    {
     "data": {
      "image/png": "[encoded data removed]",
      "text/plain": [
       "<Figure size 432x288 with 2 Axes>"
      ]
     },
     "metadata": {
      "needs_background": "light"
     },
     "output_type": "display_data"
    }
   ],
   "source": [
    "class_names = ['high', 'low']\n",
    "    \n",
    "plot_confusion_matrix(confusion_matrix(y_test,y_predict),\n",
    "                      class_names, \n",
    "                      normalize=False,\n",
    "                      title='Normalized Confusion Matrix: Decision Tree')\n",
    "\n",
    "print('Classification report: DT')\n",
    "print('-------------------------------')\n",
    "report(y_test, y_predict, class_names)"
   ]
  },
  {
   "cell_type": "code",
   "execution_count": 43,
   "metadata": {},
   "outputs": [
    {
     "data": {
      "text/plain": [
       "array([[63, 65],\n",
       "       [52, 80]])"
      ]
     },
     "execution_count": 43,
     "metadata": {},
     "output_type": "execute_result"
    }
   ],
   "source": [
    "confusion_matrix(y_test,y_predict)"
   ]
  },
  {
   "cell_type": "markdown",
   "metadata": {},
   "source": [
    "# Demographic data"
   ]
  },
  {
   "cell_type": "code",
   "execution_count": 44,
   "metadata": {},
   "outputs": [
    {
     "data": {
      "text/html": [
       "<div>\n",
       "<style scoped>\n",
       "    .dataframe tbody tr th:only-of-type {\n",
       "        vertical-align: middle;\n",
       "    }\n",
       "\n",
       "    .dataframe tbody tr th {\n",
       "        vertical-align: top;\n",
       "    }\n",
       "\n",
       "    .dataframe thead th {\n",
       "        text-align: right;\n",
       "    }\n",
       "</style>\n",
       "<table border=\"1\" class=\"dataframe\">\n",
       "  <thead>\n",
       "    <tr style=\"text-align: right;\">\n",
       "      <th></th>\n",
       "      <th>customer_id</th>\n",
       "      <th>gender</th>\n",
       "      <th>wealth_segment</th>\n",
       "      <th>owns_car</th>\n",
       "      <th>state</th>\n",
       "      <th>cluster</th>\n",
       "      <th>age_cat</th>\n",
       "      <th>purchase_cat</th>\n",
       "      <th>tenure_cat</th>\n",
       "      <th>property_cat</th>\n",
       "    </tr>\n",
       "  </thead>\n",
       "  <tbody>\n",
       "    <tr>\n",
       "      <th>0</th>\n",
       "      <td>1</td>\n",
       "      <td>Female</td>\n",
       "      <td>Mass Customer</td>\n",
       "      <td>Yes</td>\n",
       "      <td>NSW</td>\n",
       "      <td>high</td>\n",
       "      <td>senior</td>\n",
       "      <td>senior</td>\n",
       "      <td>medium</td>\n",
       "      <td>medium</td>\n",
       "    </tr>\n",
       "    <tr>\n",
       "      <th>1</th>\n",
       "      <td>2</td>\n",
       "      <td>Male</td>\n",
       "      <td>Mass Customer</td>\n",
       "      <td>Yes</td>\n",
       "      <td>NSW</td>\n",
       "      <td>low</td>\n",
       "      <td>mid-age</td>\n",
       "      <td>senior</td>\n",
       "      <td>long</td>\n",
       "      <td>medium</td>\n",
       "    </tr>\n",
       "    <tr>\n",
       "      <th>2</th>\n",
       "      <td>4</td>\n",
       "      <td>Male</td>\n",
       "      <td>Mass Customer</td>\n",
       "      <td>No</td>\n",
       "      <td>QLD</td>\n",
       "      <td>low</td>\n",
       "      <td>senior</td>\n",
       "      <td>mid-age</td>\n",
       "      <td>medium</td>\n",
       "      <td>medium</td>\n",
       "    </tr>\n",
       "    <tr>\n",
       "      <th>3</th>\n",
       "      <td>5</td>\n",
       "      <td>Female</td>\n",
       "      <td>Affluent Customer</td>\n",
       "      <td>Yes</td>\n",
       "      <td>NSW</td>\n",
       "      <td>high</td>\n",
       "      <td>mid-age</td>\n",
       "      <td>senior</td>\n",
       "      <td>medium</td>\n",
       "      <td>low</td>\n",
       "    </tr>\n",
       "    <tr>\n",
       "      <th>4</th>\n",
       "      <td>6</td>\n",
       "      <td>Male</td>\n",
       "      <td>High Net Worth</td>\n",
       "      <td>Yes</td>\n",
       "      <td>VIC</td>\n",
       "      <td>low</td>\n",
       "      <td>senior</td>\n",
       "      <td>mid-age</td>\n",
       "      <td>medium</td>\n",
       "      <td>medium</td>\n",
       "    </tr>\n",
       "  </tbody>\n",
       "</table>\n",
       "</div>"
      ],
      "text/plain": [
       "   customer_id  gender     wealth_segment owns_car state cluster  age_cat  \\\n",
       "0            1  Female      Mass Customer      Yes   NSW    high   senior   \n",
       "1            2    Male      Mass Customer      Yes   NSW     low  mid-age   \n",
       "2            4    Male      Mass Customer       No   QLD     low   senior   \n",
       "3            5  Female  Affluent Customer      Yes   NSW    high  mid-age   \n",
       "4            6    Male     High Net Worth      Yes   VIC     low   senior   \n",
       "\n",
       "  purchase_cat tenure_cat property_cat  \n",
       "0       senior     medium       medium  \n",
       "1       senior       long       medium  \n",
       "2      mid-age     medium       medium  \n",
       "3       senior     medium          low  \n",
       "4      mid-age     medium       medium  "
      ]
     },
     "execution_count": 44,
     "metadata": {},
     "output_type": "execute_result"
    }
   ],
   "source": [
    "PastCust_demo_cat_labeled_2.head()"
   ]
  },
  {
   "cell_type": "code",
   "execution_count": 45,
   "metadata": {},
   "outputs": [
    {
     "data": {
      "text/html": [
       "<div>\n",
       "<style scoped>\n",
       "    .dataframe tbody tr th:only-of-type {\n",
       "        vertical-align: middle;\n",
       "    }\n",
       "\n",
       "    .dataframe tbody tr th {\n",
       "        vertical-align: top;\n",
       "    }\n",
       "\n",
       "    .dataframe thead th {\n",
       "        text-align: right;\n",
       "    }\n",
       "</style>\n",
       "<table border=\"1\" class=\"dataframe\">\n",
       "  <thead>\n",
       "    <tr style=\"text-align: right;\">\n",
       "      <th></th>\n",
       "      <th>customer_id</th>\n",
       "      <th>gender</th>\n",
       "      <th>past_3_years_bike_related_purchases</th>\n",
       "      <th>wealth_segment</th>\n",
       "      <th>owns_car</th>\n",
       "      <th>tenure</th>\n",
       "      <th>age</th>\n",
       "      <th>state</th>\n",
       "      <th>property_valuation</th>\n",
       "      <th>cluster</th>\n",
       "    </tr>\n",
       "  </thead>\n",
       "  <tbody>\n",
       "    <tr>\n",
       "      <th>0</th>\n",
       "      <td>1</td>\n",
       "      <td>Female</td>\n",
       "      <td>93</td>\n",
       "      <td>Mass Customer</td>\n",
       "      <td>Yes</td>\n",
       "      <td>11</td>\n",
       "      <td>64</td>\n",
       "      <td>NSW</td>\n",
       "      <td>10</td>\n",
       "      <td>high</td>\n",
       "    </tr>\n",
       "    <tr>\n",
       "      <th>1</th>\n",
       "      <td>2</td>\n",
       "      <td>Male</td>\n",
       "      <td>81</td>\n",
       "      <td>Mass Customer</td>\n",
       "      <td>Yes</td>\n",
       "      <td>16</td>\n",
       "      <td>37</td>\n",
       "      <td>NSW</td>\n",
       "      <td>10</td>\n",
       "      <td>low</td>\n",
       "    </tr>\n",
       "    <tr>\n",
       "      <th>2</th>\n",
       "      <td>4</td>\n",
       "      <td>Male</td>\n",
       "      <td>33</td>\n",
       "      <td>Mass Customer</td>\n",
       "      <td>No</td>\n",
       "      <td>7</td>\n",
       "      <td>56</td>\n",
       "      <td>QLD</td>\n",
       "      <td>9</td>\n",
       "      <td>low</td>\n",
       "    </tr>\n",
       "    <tr>\n",
       "      <th>3</th>\n",
       "      <td>5</td>\n",
       "      <td>Female</td>\n",
       "      <td>56</td>\n",
       "      <td>Affluent Customer</td>\n",
       "      <td>Yes</td>\n",
       "      <td>8</td>\n",
       "      <td>40</td>\n",
       "      <td>NSW</td>\n",
       "      <td>4</td>\n",
       "      <td>high</td>\n",
       "    </tr>\n",
       "    <tr>\n",
       "      <th>4</th>\n",
       "      <td>6</td>\n",
       "      <td>Male</td>\n",
       "      <td>35</td>\n",
       "      <td>High Net Worth</td>\n",
       "      <td>Yes</td>\n",
       "      <td>13</td>\n",
       "      <td>51</td>\n",
       "      <td>VIC</td>\n",
       "      <td>9</td>\n",
       "      <td>low</td>\n",
       "    </tr>\n",
       "  </tbody>\n",
       "</table>\n",
       "</div>"
      ],
      "text/plain": [
       "   customer_id  gender  past_3_years_bike_related_purchases  \\\n",
       "0            1  Female                                   93   \n",
       "1            2    Male                                   81   \n",
       "2            4    Male                                   33   \n",
       "3            5  Female                                   56   \n",
       "4            6    Male                                   35   \n",
       "\n",
       "      wealth_segment owns_car  tenure  age state  property_valuation cluster  \n",
       "0      Mass Customer      Yes      11   64   NSW                  10    high  \n",
       "1      Mass Customer      Yes      16   37   NSW                  10     low  \n",
       "2      Mass Customer       No       7   56   QLD                   9     low  \n",
       "3  Affluent Customer      Yes       8   40   NSW                   4    high  \n",
       "4     High Net Worth      Yes      13   51   VIC                   9     low  "
      ]
     },
     "execution_count": 45,
     "metadata": {},
     "output_type": "execute_result"
    }
   ],
   "source": [
    "PastCust_demo_labeled_2.head()"
   ]
  },
  {
   "cell_type": "markdown",
   "metadata": {},
   "source": [
    "## Split data into training, test, and validation sets"
   ]
  },
  {
   "cell_type": "code",
   "execution_count": 46,
   "metadata": {},
   "outputs": [],
   "source": [
    "df = PastCust_demo_labeled_2.drop(columns = ['customer_id'], axis=1)"
   ]
  },
  {
   "cell_type": "code",
   "execution_count": 47,
   "metadata": {},
   "outputs": [],
   "source": [
    "X = df.drop(columns=['cluster']).copy()"
   ]
  },
  {
   "cell_type": "code",
   "execution_count": 48,
   "metadata": {},
   "outputs": [],
   "source": [
    "X = pd.get_dummies(X) "
   ]
  },
  {
   "cell_type": "code",
   "execution_count": 49,
   "metadata": {},
   "outputs": [],
   "source": [
    "y = df['cluster']"
   ]
  },
  {
   "cell_type": "code",
   "execution_count": 50,
   "metadata": {},
   "outputs": [],
   "source": [
    "X_train, X_rem, y_train, y_rem = train_test_split(X, y, train_size=0.8)"
   ]
  },
  {
   "cell_type": "code",
   "execution_count": 51,
   "metadata": {},
   "outputs": [],
   "source": [
    "X_valid, X_test, y_valid, y_test = train_test_split(X_rem,y_rem, test_size=0.5)"
   ]
  },
  {
   "cell_type": "code",
   "execution_count": 52,
   "metadata": {},
   "outputs": [
    {
     "name": "stdout",
     "output_type": "stream",
     "text": [
      "the shape of X_train is (2726, 14), the shape of y_train is  (2726,)\n",
      "the shape of X_valid is (341, 14), the shape of y_valid is  (341,)\n",
      "the shape of X_test is (341, 14), the shape of y_test is  (341,)\n"
     ]
    }
   ],
   "source": [
    "# check datasets shape\n",
    "print(f'the shape of X_train is {X_train.shape}, the shape of y_train is  {y_train.shape}')\n",
    "print(f'the shape of X_valid is {X_valid.shape}, the shape of y_valid is  {y_valid.shape}')\n",
    "print(f'the shape of X_test is {X_test.shape}, the shape of y_test is  {y_test.shape}')"
   ]
  },
  {
   "cell_type": "markdown",
   "metadata": {},
   "source": [
    "## Fit model"
   ]
  },
  {
   "cell_type": "code",
   "execution_count": 53,
   "metadata": {},
   "outputs": [],
   "source": [
    "dtclf = DecisionTreeClassifier()\n",
    "dtclf.fit(X_train, y_train)\n",
    "y_predict = dtclf.predict(X_test)"
   ]
  },
  {
   "cell_type": "code",
   "execution_count": 54,
   "metadata": {},
   "outputs": [
    {
     "name": "stdout",
     "output_type": "stream",
     "text": [
      "              precision    recall  f1-score   support\n",
      "\n",
      "        high       0.39      0.43      0.41       139\n",
      "         low       0.58      0.54      0.56       202\n",
      "\n",
      "    accuracy                           0.50       341\n",
      "   macro avg       0.49      0.49      0.48       341\n",
      "weighted avg       0.50      0.50      0.50       341\n",
      "\n"
     ]
    }
   ],
   "source": [
    "print(classification_report(y_test, y_predict))"
   ]
  },
  {
   "cell_type": "code",
   "execution_count": 55,
   "metadata": {},
   "outputs": [
    {
     "name": "stdout",
     "output_type": "stream",
     "text": [
      "Classification report: DT\n",
      "-------------------------------\n",
      "Matthews Coefficient: -0.03\n"
     ]
    },
    {
     "data": {
      "image/png": "[encoded data removed]",
      "text/plain": [
       "<Figure size 432x288 with 2 Axes>"
      ]
     },
     "metadata": {
      "needs_background": "light"
     },
     "output_type": "display_data"
    }
   ],
   "source": [
    "class_names = ['high', 'low']\n",
    "    \n",
    "plot_confusion_matrix(confusion_matrix(y_test,y_predict),\n",
    "                      class_names, \n",
    "                      normalize=False,\n",
    "                      title='Normalized Confusion Matrix: Decision Tree')\n",
    "\n",
    "print('Classification report: DT')\n",
    "print('-------------------------------')\n",
    "report(y_test, y_predict, class_names)"
   ]
  },
  {
   "cell_type": "markdown",
   "metadata": {},
   "source": [
    "# Demo + Trans data"
   ]
  },
  {
   "cell_type": "markdown",
   "metadata": {},
   "source": [
    "## Split data into training, test, and validation sets"
   ]
  },
  {
   "cell_type": "code",
   "execution_count": 56,
   "metadata": {},
   "outputs": [],
   "source": [
    "df = PastCust_trans_labeled_2.merge(PastCust_demo_labeled_2, \n",
    "                                   on = 'customer_id',\n",
    "                                   how = 'inner')"
   ]
  },
  {
   "cell_type": "code",
   "execution_count": 57,
   "metadata": {},
   "outputs": [
    {
     "data": {
      "text/plain": [
       "Index(['customer_id', 'product_age_new', 'product_age_old', 'Giant Bicycles',\n",
       "       'Norco Bicycles', 'OHM Cycles', 'Solex', 'Trek Bicycles', 'WeareA2B',\n",
       "       'Mountain', 'Road', 'Standard', 'Touring', 'product_class_high',\n",
       "       'product_class_low', 'product_class_medium', 'product_size_large',\n",
       "       'product_size_medium', 'product_size_small', 'multi_trans', 'cluster_x',\n",
       "       'gender', 'past_3_years_bike_related_purchases', 'wealth_segment',\n",
       "       'owns_car', 'tenure', 'age', 'state', 'property_valuation',\n",
       "       'cluster_y'],\n",
       "      dtype='object')"
      ]
     },
     "execution_count": 57,
     "metadata": {},
     "output_type": "execute_result"
    }
   ],
   "source": [
    "df.columns"
   ]
  },
  {
   "cell_type": "code",
   "execution_count": 58,
   "metadata": {},
   "outputs": [],
   "source": [
    "df.rename(columns = {'cluster_x':'cluster'}, inplace=True)\n",
    "df.drop('cluster_y', axis=1, inplace=True)"
   ]
  },
  {
   "cell_type": "code",
   "execution_count": 59,
   "metadata": {},
   "outputs": [
    {
     "data": {
      "text/plain": [
       "Index(['customer_id', 'product_age_new', 'product_age_old', 'Giant Bicycles',\n",
       "       'Norco Bicycles', 'OHM Cycles', 'Solex', 'Trek Bicycles', 'WeareA2B',\n",
       "       'Mountain', 'Road', 'Standard', 'Touring', 'product_class_high',\n",
       "       'product_class_low', 'product_class_medium', 'product_size_large',\n",
       "       'product_size_medium', 'product_size_small', 'multi_trans', 'cluster',\n",
       "       'gender', 'past_3_years_bike_related_purchases', 'wealth_segment',\n",
       "       'owns_car', 'tenure', 'age', 'state', 'property_valuation'],\n",
       "      dtype='object')"
      ]
     },
     "execution_count": 59,
     "metadata": {},
     "output_type": "execute_result"
    }
   ],
   "source": [
    "df.columns"
   ]
  },
  {
   "cell_type": "code",
   "execution_count": 60,
   "metadata": {},
   "outputs": [
    {
     "data": {
      "text/html": [
       "<div>\n",
       "<style scoped>\n",
       "    .dataframe tbody tr th:only-of-type {\n",
       "        vertical-align: middle;\n",
       "    }\n",
       "\n",
       "    .dataframe tbody tr th {\n",
       "        vertical-align: top;\n",
       "    }\n",
       "\n",
       "    .dataframe thead th {\n",
       "        text-align: right;\n",
       "    }\n",
       "</style>\n",
       "<table border=\"1\" class=\"dataframe\">\n",
       "  <thead>\n",
       "    <tr style=\"text-align: right;\">\n",
       "      <th></th>\n",
       "      <th>customer_id</th>\n",
       "      <th>product_age_new</th>\n",
       "      <th>product_age_old</th>\n",
       "      <th>Giant Bicycles</th>\n",
       "      <th>Norco Bicycles</th>\n",
       "      <th>OHM Cycles</th>\n",
       "      <th>Solex</th>\n",
       "      <th>Trek Bicycles</th>\n",
       "      <th>WeareA2B</th>\n",
       "      <th>Mountain</th>\n",
       "      <th>...</th>\n",
       "      <th>multi_trans</th>\n",
       "      <th>cluster</th>\n",
       "      <th>gender</th>\n",
       "      <th>past_3_years_bike_related_purchases</th>\n",
       "      <th>wealth_segment</th>\n",
       "      <th>owns_car</th>\n",
       "      <th>tenure</th>\n",
       "      <th>age</th>\n",
       "      <th>state</th>\n",
       "      <th>property_valuation</th>\n",
       "    </tr>\n",
       "  </thead>\n",
       "  <tbody>\n",
       "    <tr>\n",
       "      <th>0</th>\n",
       "      <td>1</td>\n",
       "      <td>2</td>\n",
       "      <td>9</td>\n",
       "      <td>4</td>\n",
       "      <td>2</td>\n",
       "      <td>2</td>\n",
       "      <td>2</td>\n",
       "      <td>1</td>\n",
       "      <td>0</td>\n",
       "      <td>1</td>\n",
       "      <td>...</td>\n",
       "      <td>0</td>\n",
       "      <td>high</td>\n",
       "      <td>Female</td>\n",
       "      <td>93</td>\n",
       "      <td>Mass Customer</td>\n",
       "      <td>Yes</td>\n",
       "      <td>11</td>\n",
       "      <td>64</td>\n",
       "      <td>NSW</td>\n",
       "      <td>10</td>\n",
       "    </tr>\n",
       "    <tr>\n",
       "      <th>1</th>\n",
       "      <td>2</td>\n",
       "      <td>1</td>\n",
       "      <td>2</td>\n",
       "      <td>1</td>\n",
       "      <td>0</td>\n",
       "      <td>0</td>\n",
       "      <td>0</td>\n",
       "      <td>0</td>\n",
       "      <td>2</td>\n",
       "      <td>0</td>\n",
       "      <td>...</td>\n",
       "      <td>0</td>\n",
       "      <td>low</td>\n",
       "      <td>Male</td>\n",
       "      <td>81</td>\n",
       "      <td>Mass Customer</td>\n",
       "      <td>Yes</td>\n",
       "      <td>16</td>\n",
       "      <td>37</td>\n",
       "      <td>NSW</td>\n",
       "      <td>10</td>\n",
       "    </tr>\n",
       "    <tr>\n",
       "      <th>2</th>\n",
       "      <td>4</td>\n",
       "      <td>0</td>\n",
       "      <td>2</td>\n",
       "      <td>1</td>\n",
       "      <td>0</td>\n",
       "      <td>0</td>\n",
       "      <td>1</td>\n",
       "      <td>0</td>\n",
       "      <td>0</td>\n",
       "      <td>0</td>\n",
       "      <td>...</td>\n",
       "      <td>0</td>\n",
       "      <td>low</td>\n",
       "      <td>Male</td>\n",
       "      <td>33</td>\n",
       "      <td>Mass Customer</td>\n",
       "      <td>No</td>\n",
       "      <td>7</td>\n",
       "      <td>56</td>\n",
       "      <td>QLD</td>\n",
       "      <td>9</td>\n",
       "    </tr>\n",
       "    <tr>\n",
       "      <th>3</th>\n",
       "      <td>5</td>\n",
       "      <td>3</td>\n",
       "      <td>3</td>\n",
       "      <td>1</td>\n",
       "      <td>2</td>\n",
       "      <td>0</td>\n",
       "      <td>1</td>\n",
       "      <td>1</td>\n",
       "      <td>1</td>\n",
       "      <td>1</td>\n",
       "      <td>...</td>\n",
       "      <td>0</td>\n",
       "      <td>high</td>\n",
       "      <td>Female</td>\n",
       "      <td>56</td>\n",
       "      <td>Affluent Customer</td>\n",
       "      <td>Yes</td>\n",
       "      <td>8</td>\n",
       "      <td>40</td>\n",
       "      <td>NSW</td>\n",
       "      <td>4</td>\n",
       "    </tr>\n",
       "    <tr>\n",
       "      <th>4</th>\n",
       "      <td>6</td>\n",
       "      <td>3</td>\n",
       "      <td>2</td>\n",
       "      <td>2</td>\n",
       "      <td>0</td>\n",
       "      <td>0</td>\n",
       "      <td>0</td>\n",
       "      <td>1</td>\n",
       "      <td>2</td>\n",
       "      <td>0</td>\n",
       "      <td>...</td>\n",
       "      <td>0</td>\n",
       "      <td>low</td>\n",
       "      <td>Male</td>\n",
       "      <td>35</td>\n",
       "      <td>High Net Worth</td>\n",
       "      <td>Yes</td>\n",
       "      <td>13</td>\n",
       "      <td>51</td>\n",
       "      <td>VIC</td>\n",
       "      <td>9</td>\n",
       "    </tr>\n",
       "  </tbody>\n",
       "</table>\n",
       "<p>5 rows × 29 columns</p>\n",
       "</div>"
      ],
      "text/plain": [
       "   customer_id  product_age_new  product_age_old  Giant Bicycles  \\\n",
       "0            1                2                9               4   \n",
       "1            2                1                2               1   \n",
       "2            4                0                2               1   \n",
       "3            5                3                3               1   \n",
       "4            6                3                2               2   \n",
       "\n",
       "   Norco Bicycles  OHM Cycles  Solex  Trek Bicycles  WeareA2B  Mountain  ...  \\\n",
       "0               2           2      2              1         0         1  ...   \n",
       "1               0           0      0              0         2         0  ...   \n",
       "2               0           0      1              0         0         0  ...   \n",
       "3               2           0      1              1         1         1  ...   \n",
       "4               0           0      0              1         2         0  ...   \n",
       "\n",
       "   multi_trans  cluster  gender  past_3_years_bike_related_purchases  \\\n",
       "0            0     high  Female                                   93   \n",
       "1            0      low    Male                                   81   \n",
       "2            0      low    Male                                   33   \n",
       "3            0     high  Female                                   56   \n",
       "4            0      low    Male                                   35   \n",
       "\n",
       "      wealth_segment  owns_car  tenure  age  state  property_valuation  \n",
       "0      Mass Customer       Yes      11   64    NSW                  10  \n",
       "1      Mass Customer       Yes      16   37    NSW                  10  \n",
       "2      Mass Customer        No       7   56    QLD                   9  \n",
       "3  Affluent Customer       Yes       8   40    NSW                   4  \n",
       "4     High Net Worth       Yes      13   51    VIC                   9  \n",
       "\n",
       "[5 rows x 29 columns]"
      ]
     },
     "execution_count": 60,
     "metadata": {},
     "output_type": "execute_result"
    }
   ],
   "source": [
    "df.head()"
   ]
  },
  {
   "cell_type": "code",
   "execution_count": 61,
   "metadata": {},
   "outputs": [],
   "source": [
    "df = df.drop(columns = ['customer_id'], axis=1)"
   ]
  },
  {
   "cell_type": "code",
   "execution_count": 62,
   "metadata": {},
   "outputs": [],
   "source": [
    "X = df.drop(columns=['cluster']).copy()"
   ]
  },
  {
   "cell_type": "code",
   "execution_count": 63,
   "metadata": {},
   "outputs": [],
   "source": [
    "X = pd.get_dummies(X) "
   ]
  },
  {
   "cell_type": "code",
   "execution_count": 64,
   "metadata": {},
   "outputs": [
    {
     "data": {
      "text/html": [
       "<div>\n",
       "<style scoped>\n",
       "    .dataframe tbody tr th:only-of-type {\n",
       "        vertical-align: middle;\n",
       "    }\n",
       "\n",
       "    .dataframe tbody tr th {\n",
       "        vertical-align: top;\n",
       "    }\n",
       "\n",
       "    .dataframe thead th {\n",
       "        text-align: right;\n",
       "    }\n",
       "</style>\n",
       "<table border=\"1\" class=\"dataframe\">\n",
       "  <thead>\n",
       "    <tr style=\"text-align: right;\">\n",
       "      <th></th>\n",
       "      <th>product_age_new</th>\n",
       "      <th>product_age_old</th>\n",
       "      <th>Giant Bicycles</th>\n",
       "      <th>Norco Bicycles</th>\n",
       "      <th>OHM Cycles</th>\n",
       "      <th>Solex</th>\n",
       "      <th>Trek Bicycles</th>\n",
       "      <th>WeareA2B</th>\n",
       "      <th>Mountain</th>\n",
       "      <th>Road</th>\n",
       "      <th>...</th>\n",
       "      <th>gender_Female</th>\n",
       "      <th>gender_Male</th>\n",
       "      <th>wealth_segment_Affluent Customer</th>\n",
       "      <th>wealth_segment_High Net Worth</th>\n",
       "      <th>wealth_segment_Mass Customer</th>\n",
       "      <th>owns_car_No</th>\n",
       "      <th>owns_car_Yes</th>\n",
       "      <th>state_NSW</th>\n",
       "      <th>state_QLD</th>\n",
       "      <th>state_VIC</th>\n",
       "    </tr>\n",
       "  </thead>\n",
       "  <tbody>\n",
       "    <tr>\n",
       "      <th>0</th>\n",
       "      <td>2</td>\n",
       "      <td>9</td>\n",
       "      <td>4</td>\n",
       "      <td>2</td>\n",
       "      <td>2</td>\n",
       "      <td>2</td>\n",
       "      <td>1</td>\n",
       "      <td>0</td>\n",
       "      <td>1</td>\n",
       "      <td>3</td>\n",
       "      <td>...</td>\n",
       "      <td>1</td>\n",
       "      <td>0</td>\n",
       "      <td>0</td>\n",
       "      <td>0</td>\n",
       "      <td>1</td>\n",
       "      <td>0</td>\n",
       "      <td>1</td>\n",
       "      <td>1</td>\n",
       "      <td>0</td>\n",
       "      <td>0</td>\n",
       "    </tr>\n",
       "    <tr>\n",
       "      <th>1</th>\n",
       "      <td>1</td>\n",
       "      <td>2</td>\n",
       "      <td>1</td>\n",
       "      <td>0</td>\n",
       "      <td>0</td>\n",
       "      <td>0</td>\n",
       "      <td>0</td>\n",
       "      <td>2</td>\n",
       "      <td>0</td>\n",
       "      <td>0</td>\n",
       "      <td>...</td>\n",
       "      <td>0</td>\n",
       "      <td>1</td>\n",
       "      <td>0</td>\n",
       "      <td>0</td>\n",
       "      <td>1</td>\n",
       "      <td>0</td>\n",
       "      <td>1</td>\n",
       "      <td>1</td>\n",
       "      <td>0</td>\n",
       "      <td>0</td>\n",
       "    </tr>\n",
       "    <tr>\n",
       "      <th>2</th>\n",
       "      <td>0</td>\n",
       "      <td>2</td>\n",
       "      <td>1</td>\n",
       "      <td>0</td>\n",
       "      <td>0</td>\n",
       "      <td>1</td>\n",
       "      <td>0</td>\n",
       "      <td>0</td>\n",
       "      <td>0</td>\n",
       "      <td>0</td>\n",
       "      <td>...</td>\n",
       "      <td>0</td>\n",
       "      <td>1</td>\n",
       "      <td>0</td>\n",
       "      <td>0</td>\n",
       "      <td>1</td>\n",
       "      <td>1</td>\n",
       "      <td>0</td>\n",
       "      <td>0</td>\n",
       "      <td>1</td>\n",
       "      <td>0</td>\n",
       "    </tr>\n",
       "    <tr>\n",
       "      <th>3</th>\n",
       "      <td>3</td>\n",
       "      <td>3</td>\n",
       "      <td>1</td>\n",
       "      <td>2</td>\n",
       "      <td>0</td>\n",
       "      <td>1</td>\n",
       "      <td>1</td>\n",
       "      <td>1</td>\n",
       "      <td>1</td>\n",
       "      <td>3</td>\n",
       "      <td>...</td>\n",
       "      <td>1</td>\n",
       "      <td>0</td>\n",
       "      <td>1</td>\n",
       "      <td>0</td>\n",
       "      <td>0</td>\n",
       "      <td>0</td>\n",
       "      <td>1</td>\n",
       "      <td>1</td>\n",
       "      <td>0</td>\n",
       "      <td>0</td>\n",
       "    </tr>\n",
       "    <tr>\n",
       "      <th>4</th>\n",
       "      <td>3</td>\n",
       "      <td>2</td>\n",
       "      <td>2</td>\n",
       "      <td>0</td>\n",
       "      <td>0</td>\n",
       "      <td>0</td>\n",
       "      <td>1</td>\n",
       "      <td>2</td>\n",
       "      <td>0</td>\n",
       "      <td>0</td>\n",
       "      <td>...</td>\n",
       "      <td>0</td>\n",
       "      <td>1</td>\n",
       "      <td>0</td>\n",
       "      <td>1</td>\n",
       "      <td>0</td>\n",
       "      <td>0</td>\n",
       "      <td>1</td>\n",
       "      <td>0</td>\n",
       "      <td>0</td>\n",
       "      <td>1</td>\n",
       "    </tr>\n",
       "  </tbody>\n",
       "</table>\n",
       "<p>5 rows × 33 columns</p>\n",
       "</div>"
      ],
      "text/plain": [
       "   product_age_new  product_age_old  Giant Bicycles  Norco Bicycles  \\\n",
       "0                2                9               4               2   \n",
       "1                1                2               1               0   \n",
       "2                0                2               1               0   \n",
       "3                3                3               1               2   \n",
       "4                3                2               2               0   \n",
       "\n",
       "   OHM Cycles  Solex  Trek Bicycles  WeareA2B  Mountain  Road  ...  \\\n",
       "0           2      2              1         0         1     3  ...   \n",
       "1           0      0              0         2         0     0  ...   \n",
       "2           0      1              0         0         0     0  ...   \n",
       "3           0      1              1         1         1     3  ...   \n",
       "4           0      0              1         2         0     0  ...   \n",
       "\n",
       "   gender_Female  gender_Male  wealth_segment_Affluent Customer  \\\n",
       "0              1            0                                 0   \n",
       "1              0            1                                 0   \n",
       "2              0            1                                 0   \n",
       "3              1            0                                 1   \n",
       "4              0            1                                 0   \n",
       "\n",
       "   wealth_segment_High Net Worth  wealth_segment_Mass Customer  owns_car_No  \\\n",
       "0                              0                             1            0   \n",
       "1                              0                             1            0   \n",
       "2                              0                             1            1   \n",
       "3                              0                             0            0   \n",
       "4                              1                             0            0   \n",
       "\n",
       "   owns_car_Yes  state_NSW  state_QLD  state_VIC  \n",
       "0             1          1          0          0  \n",
       "1             1          1          0          0  \n",
       "2             0          0          1          0  \n",
       "3             1          1          0          0  \n",
       "4             1          0          0          1  \n",
       "\n",
       "[5 rows x 33 columns]"
      ]
     },
     "execution_count": 64,
     "metadata": {},
     "output_type": "execute_result"
    }
   ],
   "source": [
    "X.head()"
   ]
  },
  {
   "cell_type": "code",
   "execution_count": 65,
   "metadata": {},
   "outputs": [],
   "source": [
    "y = df['cluster']"
   ]
  },
  {
   "cell_type": "code",
   "execution_count": 66,
   "metadata": {},
   "outputs": [],
   "source": [
    "X_train, X_rem, y_train, y_rem = train_test_split(X, y, train_size=0.8)"
   ]
  },
  {
   "cell_type": "code",
   "execution_count": 67,
   "metadata": {},
   "outputs": [],
   "source": [
    "X_valid, X_test, y_valid, y_test = train_test_split(X_rem,y_rem, test_size=0.5)"
   ]
  },
  {
   "cell_type": "code",
   "execution_count": 68,
   "metadata": {},
   "outputs": [
    {
     "name": "stdout",
     "output_type": "stream",
     "text": [
      "the shape of X_train is (2726, 33), the shape of y_train is  (2726,)\n",
      "the shape of X_valid is (341, 33), the shape of y_valid is  (341,)\n",
      "the shape of X_test is (341, 33), the shape of y_test is  (341,)\n"
     ]
    }
   ],
   "source": [
    "# check datasets shape\n",
    "print(f'the shape of X_train is {X_train.shape}, the shape of y_train is  {y_train.shape}')\n",
    "print(f'the shape of X_valid is {X_valid.shape}, the shape of y_valid is  {y_valid.shape}')\n",
    "print(f'the shape of X_test is {X_test.shape}, the shape of y_test is  {y_test.shape}')"
   ]
  },
  {
   "cell_type": "markdown",
   "metadata": {},
   "source": [
    "## Fit model"
   ]
  },
  {
   "cell_type": "code",
   "execution_count": 69,
   "metadata": {},
   "outputs": [],
   "source": [
    "dtclf = DecisionTreeClassifier()\n",
    "dtclf.fit(X_train, y_train)\n",
    "y_predict = dtclf.predict(X_test)"
   ]
  },
  {
   "cell_type": "code",
   "execution_count": 70,
   "metadata": {},
   "outputs": [
    {
     "name": "stdout",
     "output_type": "stream",
     "text": [
      "              precision    recall  f1-score   support\n",
      "\n",
      "        high       0.85      0.83      0.84       156\n",
      "         low       0.86      0.88      0.87       185\n",
      "\n",
      "    accuracy                           0.86       341\n",
      "   macro avg       0.86      0.85      0.85       341\n",
      "weighted avg       0.86      0.86      0.86       341\n",
      "\n"
     ]
    }
   ],
   "source": [
    "print(classification_report(y_test, y_predict))"
   ]
  },
  {
   "cell_type": "code",
   "execution_count": 71,
   "metadata": {},
   "outputs": [
    {
     "name": "stdout",
     "output_type": "stream",
     "text": [
      "Classification report: DT\n",
      "-------------------------------\n",
      "Matthews Coefficient: 0.71\n"
     ]
    },
    {
     "data": {
      "image/png": "[encoded data removed]",
      "text/plain": [
       "<Figure size 432x288 with 2 Axes>"
      ]
     },
     "metadata": {
      "needs_background": "light"
     },
     "output_type": "display_data"
    }
   ],
   "source": [
    "class_names = ['high', 'low']\n",
    "    \n",
    "plot_confusion_matrix(confusion_matrix(y_test,y_predict),\n",
    "                      class_names, \n",
    "                      normalize=False,\n",
    "                      title='Normalized Confusion Matrix: Decision Tree')\n",
    "\n",
    "print('Classification report: DT')\n",
    "print('-------------------------------')\n",
    "report(y_test, y_predict, class_names)"
   ]
  },
  {
   "cell_type": "code",
   "execution_count": 464,
   "metadata": {},
   "outputs": [
    {
     "data": {
      "image/png": "[encoded data removed]",
      "text/plain": [
       "<Figure size 432x288 with 1 Axes>"
      ]
     },
     "metadata": {},
     "output_type": "display_data"
    }
   ],
   "source": [
    "# plotting feature importances\n",
    "importance = dtclf.feature_importances_\n",
    "# summarize feature importance\n",
    "#for i,v in enumerate(importance):\n",
    "    #print('Feature: %0d, Score: %.5f' % (i,v))\n",
    "# plot feature importance\n",
    "plt.bar([x for x in range(len(importance))], importance)\n",
    "\n",
    "plt.xlabel('Feature', fontsize =15)\n",
    "plt.ylabel('Score', fontsize =15)\n",
    "plt.title('Important features in Decision tree model', fontsize =18)\n",
    "plt.show()\n",
    "\n",
    "plt.show()"
   ]
  },
  {
   "cell_type": "code",
   "execution_count": 465,
   "metadata": {},
   "outputs": [
    {
     "name": "stdout",
     "output_type": "stream",
     "text": [
      "Feature: 0, Score: 0.01366\n",
      "Feature: 4, Score: 0.01009\n",
      "Feature: 5, Score: 0.01548\n",
      "Feature: 7, Score: 0.01469\n",
      "Feature: 9, Score: 0.09081\n",
      "Feature: 10, Score: 0.43028\n",
      "Feature: 11, Score: 0.05296\n",
      "Feature: 12, Score: 0.02247\n",
      "Feature: 13, Score: 0.02676\n",
      "Feature: 14, Score: 0.12089\n",
      "Feature: 15, Score: 0.01371\n",
      "Feature: 17, Score: 0.01051\n",
      "Feature: 19, Score: 0.04279\n",
      "Feature: 20, Score: 0.02576\n",
      "Feature: 21, Score: 0.02108\n",
      "Feature: 22, Score: 0.01182\n"
     ]
    }
   ],
   "source": [
    "for i,v in enumerate(importance):\n",
    "    if v > 0.01:\n",
    "        print('Feature: %0d, Score: %.5f' % (i,v))"
   ]
  },
  {
   "cell_type": "code",
   "execution_count": 466,
   "metadata": {},
   "outputs": [
    {
     "data": {
      "text/plain": [
       "Index(['product_age_new', 'product_age_old', 'Road', 'Standard', 'Touring',\n",
       "       'product_class_high', 'product_class_medium'],\n",
       "      dtype='object')"
      ]
     },
     "execution_count": 466,
     "metadata": {},
     "output_type": "execute_result"
    }
   ],
   "source": [
    "X.columns[[0,1,9,10,11,12,14]]"
   ]
  },
  {
   "cell_type": "markdown",
   "metadata": {},
   "source": [
    "# Demo +Trans (first three transactions)"
   ]
  },
  {
   "cell_type": "markdown",
   "metadata": {},
   "source": [
    "## Split data into training, test, validation"
   ]
  },
  {
   "cell_type": "code",
   "execution_count": 72,
   "metadata": {},
   "outputs": [],
   "source": [
    "df = PastCust_trans_cut_f3t_labeled_2.merge(PastCust_demo_labeled_2, \n",
    "                                   on = 'customer_id',\n",
    "                                   how = 'inner')"
   ]
  },
  {
   "cell_type": "code",
   "execution_count": 73,
   "metadata": {},
   "outputs": [
    {
     "data": {
      "text/plain": [
       "Index(['customer_id', 'product_age_new', 'product_age_old', 'Giant Bicycles',\n",
       "       'Norco Bicycles', 'OHM Cycles', 'Solex', 'Trek Bicycles', 'WeareA2B',\n",
       "       'Mountain', 'Road', 'Standard', 'Touring', 'product_class_high',\n",
       "       'product_class_low', 'product_class_medium', 'product_size_large',\n",
       "       'product_size_medium', 'product_size_small', 'multi_trans', 'cluster_x',\n",
       "       'gender', 'past_3_years_bike_related_purchases', 'wealth_segment',\n",
       "       'owns_car', 'tenure', 'age', 'state', 'property_valuation',\n",
       "       'cluster_y'],\n",
       "      dtype='object')"
      ]
     },
     "execution_count": 73,
     "metadata": {},
     "output_type": "execute_result"
    }
   ],
   "source": [
    "df.columns"
   ]
  },
  {
   "cell_type": "code",
   "execution_count": 74,
   "metadata": {},
   "outputs": [],
   "source": [
    "df.rename(columns = {'cluster_x':'cluster'}, inplace=True)\n",
    "df.drop('cluster_y', axis=1, inplace=True)"
   ]
  },
  {
   "cell_type": "code",
   "execution_count": 75,
   "metadata": {},
   "outputs": [],
   "source": [
    "df = df.drop(columns = ['customer_id'], axis=1)"
   ]
  },
  {
   "cell_type": "code",
   "execution_count": 76,
   "metadata": {},
   "outputs": [],
   "source": [
    "X = df.drop(columns=['cluster']).copy()"
   ]
  },
  {
   "cell_type": "code",
   "execution_count": 77,
   "metadata": {},
   "outputs": [],
   "source": [
    "X = pd.get_dummies(X) "
   ]
  },
  {
   "cell_type": "code",
   "execution_count": 78,
   "metadata": {},
   "outputs": [],
   "source": [
    "y = df['cluster']"
   ]
  },
  {
   "cell_type": "code",
   "execution_count": 79,
   "metadata": {},
   "outputs": [],
   "source": [
    "X_train, X_rem, y_train, y_rem = train_test_split(X, y, train_size=0.8)"
   ]
  },
  {
   "cell_type": "code",
   "execution_count": 80,
   "metadata": {},
   "outputs": [],
   "source": [
    "X_valid, X_test, y_valid, y_test = train_test_split(X_rem,y_rem, test_size=0.5)"
   ]
  },
  {
   "cell_type": "code",
   "execution_count": 81,
   "metadata": {},
   "outputs": [
    {
     "name": "stdout",
     "output_type": "stream",
     "text": [
      "the shape of X_train is (2726, 33), the shape of y_train is  (2726,)\n",
      "the shape of X_valid is (341, 33), the shape of y_valid is  (341,)\n",
      "the shape of X_test is (341, 33), the shape of y_test is  (341,)\n"
     ]
    }
   ],
   "source": [
    "# check datasets shape\n",
    "print(f'the shape of X_train is {X_train.shape}, the shape of y_train is  {y_train.shape}')\n",
    "print(f'the shape of X_valid is {X_valid.shape}, the shape of y_valid is  {y_valid.shape}')\n",
    "print(f'the shape of X_test is {X_test.shape}, the shape of y_test is  {y_test.shape}')"
   ]
  },
  {
   "cell_type": "markdown",
   "metadata": {},
   "source": [
    "## Fit model"
   ]
  },
  {
   "cell_type": "code",
   "execution_count": 82,
   "metadata": {},
   "outputs": [],
   "source": [
    "dtclf = DecisionTreeClassifier()\n",
    "dtclf.fit(X_train, y_train)\n",
    "y_predict = dtclf.predict(X_test)"
   ]
  },
  {
   "cell_type": "code",
   "execution_count": 83,
   "metadata": {},
   "outputs": [
    {
     "name": "stdout",
     "output_type": "stream",
     "text": [
      "              precision    recall  f1-score   support\n",
      "\n",
      "        high       0.48      0.47      0.48       148\n",
      "         low       0.60      0.61      0.61       193\n",
      "\n",
      "    accuracy                           0.55       341\n",
      "   macro avg       0.54      0.54      0.54       341\n",
      "weighted avg       0.55      0.55      0.55       341\n",
      "\n"
     ]
    }
   ],
   "source": [
    "print(classification_report(y_test, y_predict))"
   ]
  },
  {
   "cell_type": "code",
   "execution_count": 84,
   "metadata": {},
   "outputs": [
    {
     "name": "stdout",
     "output_type": "stream",
     "text": [
      "Classification report: DT\n",
      "-------------------------------\n",
      "Matthews Coefficient: 0.08\n"
     ]
    },
    {
     "data": {
      "image/png": "[encoded data removed]",
      "text/plain": [
       "<Figure size 432x288 with 2 Axes>"
      ]
     },
     "metadata": {
      "needs_background": "light"
     },
     "output_type": "display_data"
    }
   ],
   "source": [
    "class_names = ['high', 'low']\n",
    "\n",
    "confusion_matrix(y_test,y_predict)\n",
    "\n",
    "plot_confusion_matrix(confusion_matrix(y_test,y_predict),\n",
    "                      class_names, \n",
    "                      normalize=False,\n",
    "                      title='Normalized Confusion Matrix: Decision Tree')\n",
    "\n",
    "print('Classification report: DT')\n",
    "print('-------------------------------')\n",
    "report(y_test, y_predict, class_names)"
   ]
  },
  {
   "cell_type": "code",
   "execution_count": 85,
   "metadata": {},
   "outputs": [
    {
     "data": {
      "text/plain": [
       "array([[ 70,  78],\n",
       "       [ 75, 118]])"
      ]
     },
     "execution_count": 85,
     "metadata": {},
     "output_type": "execute_result"
    }
   ],
   "source": [
    "confusion_matrix(y_test,y_predict)"
   ]
  },
  {
   "cell_type": "markdown",
   "metadata": {},
   "source": [
    "# Demo + Trans (first three months)"
   ]
  },
  {
   "cell_type": "markdown",
   "metadata": {},
   "source": [
    "## Split data into training, test, validaion"
   ]
  },
  {
   "cell_type": "code",
   "execution_count": 87,
   "metadata": {},
   "outputs": [],
   "source": [
    "df = PastCust_trans_cut_f3m_labeled_2.merge(PastCust_demo_labeled_2, \n",
    "                                   on = 'customer_id',\n",
    "                                   how = 'inner')"
   ]
  },
  {
   "cell_type": "code",
   "execution_count": 88,
   "metadata": {},
   "outputs": [
    {
     "data": {
      "text/plain": [
       "Index(['customer_id', 'product_age_new', 'product_age_old', 'Giant Bicycles',\n",
       "       'Norco Bicycles', 'OHM Cycles', 'Solex', 'Trek Bicycles', 'WeareA2B',\n",
       "       'Mountain', 'Road', 'Standard', 'Touring', 'product_class_high',\n",
       "       'product_class_low', 'product_class_medium', 'product_size_large',\n",
       "       'product_size_medium', 'product_size_small', 'multi_trans', 'cluster_x',\n",
       "       'gender', 'past_3_years_bike_related_purchases', 'wealth_segment',\n",
       "       'owns_car', 'tenure', 'age', 'state', 'property_valuation',\n",
       "       'cluster_y'],\n",
       "      dtype='object')"
      ]
     },
     "execution_count": 88,
     "metadata": {},
     "output_type": "execute_result"
    }
   ],
   "source": [
    "df.columns"
   ]
  },
  {
   "cell_type": "code",
   "execution_count": 89,
   "metadata": {},
   "outputs": [],
   "source": [
    "df.rename(columns = {'cluster_x':'cluster'}, inplace=True)\n",
    "df.drop('cluster_y', axis=1, inplace=True)"
   ]
  },
  {
   "cell_type": "code",
   "execution_count": 90,
   "metadata": {},
   "outputs": [],
   "source": [
    "df = df.drop(columns = ['customer_id'], axis=1)"
   ]
  },
  {
   "cell_type": "code",
   "execution_count": 91,
   "metadata": {},
   "outputs": [],
   "source": [
    "X = df.drop(columns=['cluster']).copy()"
   ]
  },
  {
   "cell_type": "code",
   "execution_count": 92,
   "metadata": {},
   "outputs": [],
   "source": [
    "X = pd.get_dummies(X) "
   ]
  },
  {
   "cell_type": "code",
   "execution_count": 93,
   "metadata": {},
   "outputs": [],
   "source": [
    "y = df['cluster']"
   ]
  },
  {
   "cell_type": "code",
   "execution_count": 94,
   "metadata": {},
   "outputs": [],
   "source": [
    "X_train, X_rem, y_train, y_rem = train_test_split(X, y, train_size=0.8)"
   ]
  },
  {
   "cell_type": "code",
   "execution_count": 95,
   "metadata": {},
   "outputs": [],
   "source": [
    "X_valid, X_test, y_valid, y_test = train_test_split(X_rem,y_rem, test_size=0.5)"
   ]
  },
  {
   "cell_type": "code",
   "execution_count": 96,
   "metadata": {},
   "outputs": [
    {
     "name": "stdout",
     "output_type": "stream",
     "text": [
      "the shape of X_train is (2033, 33), the shape of y_train is  (2033,)\n",
      "the shape of X_valid is (254, 33), the shape of y_valid is  (254,)\n",
      "the shape of X_test is (255, 33), the shape of y_test is  (255,)\n"
     ]
    }
   ],
   "source": [
    "# check datasets shape\n",
    "print(f'the shape of X_train is {X_train.shape}, the shape of y_train is  {y_train.shape}')\n",
    "print(f'the shape of X_valid is {X_valid.shape}, the shape of y_valid is  {y_valid.shape}')\n",
    "print(f'the shape of X_test is {X_test.shape}, the shape of y_test is  {y_test.shape}')"
   ]
  },
  {
   "cell_type": "markdown",
   "metadata": {},
   "source": [
    "## Fit model"
   ]
  },
  {
   "cell_type": "code",
   "execution_count": 97,
   "metadata": {},
   "outputs": [],
   "source": [
    "dtclf = DecisionTreeClassifier()\n",
    "dtclf.fit(X_train, y_train)\n",
    "y_predict = dtclf.predict(X_test)"
   ]
  },
  {
   "cell_type": "code",
   "execution_count": 98,
   "metadata": {},
   "outputs": [
    {
     "name": "stdout",
     "output_type": "stream",
     "text": [
      "              precision    recall  f1-score   support\n",
      "\n",
      "        high       0.50      0.55      0.53       119\n",
      "         low       0.57      0.52      0.55       136\n",
      "\n",
      "    accuracy                           0.54       255\n",
      "   macro avg       0.54      0.54      0.54       255\n",
      "weighted avg       0.54      0.54      0.54       255\n",
      "\n"
     ]
    }
   ],
   "source": [
    "print(classification_report(y_test, y_predict))"
   ]
  },
  {
   "cell_type": "code",
   "execution_count": 99,
   "metadata": {},
   "outputs": [
    {
     "name": "stdout",
     "output_type": "stream",
     "text": [
      "Classification report: DT\n",
      "-------------------------------\n",
      "Matthews Coefficient: 0.08\n"
     ]
    },
    {
     "data": {
      "image/png": "[encoded data removed]",
      "text/plain": [
       "<Figure size 432x288 with 2 Axes>"
      ]
     },
     "metadata": {
      "needs_background": "light"
     },
     "output_type": "display_data"
    }
   ],
   "source": [
    "class_names = ['high', 'low']\n",
    "\n",
    "confusion_matrix(y_test,y_predict)\n",
    "\n",
    "plot_confusion_matrix(confusion_matrix(y_test,y_predict),\n",
    "                      class_names, \n",
    "                      normalize=False,\n",
    "                      title='Normalized Confusion Matrix: Decision Tree')\n",
    "\n",
    "print('Classification report: DT')\n",
    "print('-------------------------------')\n",
    "report(y_test, y_predict, class_names)"
   ]
  },
  {
   "cell_type": "code",
   "execution_count": 100,
   "metadata": {},
   "outputs": [
    {
     "data": {
      "text/plain": [
       "array([[66, 53],\n",
       "       [65, 71]])"
      ]
     },
     "execution_count": 100,
     "metadata": {},
     "output_type": "execute_result"
    }
   ],
   "source": [
    "confusion_matrix(y_test,y_predict)"
   ]
  },
  {
   "cell_type": "markdown",
   "metadata": {},
   "source": [
    "# Model Comparison"
   ]
  },
  {
   "cell_type": "markdown",
   "metadata": {},
   "source": [
    "| Model # | Data used | F-1 | Matthews_Coefficient |\n",
    "| --- | --- | --- | --- |\n",
    "| 1 | transaction data (2017 yr) | 0.83 | 0.66 |\n",
    "| 2 | transaction data (first three transactions) | 0.54 | 0.07 |\n",
    "| 3 | transaction data (first three months) | 0.55 | 0.1 |\n",
    "| 4 | demographic data | 0.50 | -0.03 |\n",
    "| 5 | demographic + transaction data (2017 yr) | 0.86 | 0.71 |\n",
    "| 6 | demographic + transaction data (first three transactions) | 0.55 | 0.08 |\n",
    "| 7 | demographic + transaction data (first three months) | 0.54 | 0.08 |"
   ]
  },
  {
   "cell_type": "code",
   "execution_count": null,
   "metadata": {},
   "outputs": [],
   "source": []
  },
  {
   "cell_type": "code",
   "execution_count": null,
   "metadata": {},
   "outputs": [],
   "source": []
  }
 ],
 "metadata": {
  "kernelspec": {
   "display_name": "Python 3",
   "language": "python",
   "name": "python3"
  },
  "language_info": {
   "codemirror_mode": {
    "name": "ipython",
    "version": 3
   },
   "file_extension": ".py",
   "mimetype": "text/x-python",
   "name": "python",
   "nbconvert_exporter": "python",
   "pygments_lexer": "ipython3",
   "version": "3.7.4"
  },
  "toc": {
   "base_numbering": 1,
   "nav_menu": {},
   "number_sections": false,
   "sideBar": true,
   "skip_h1_title": false,
   "title_cell": "Table of Contents",
   "title_sidebar": "Contents",
   "toc_cell": false,
   "toc_position": {
    "height": "calc(100% - 180px)",
    "left": "10px",
    "top": "150px",
    "width": "254px"
   },
   "toc_section_display": true,
   "toc_window_display": true
  }
 },
 "nbformat": 4,
 "nbformat_minor": 2
}
